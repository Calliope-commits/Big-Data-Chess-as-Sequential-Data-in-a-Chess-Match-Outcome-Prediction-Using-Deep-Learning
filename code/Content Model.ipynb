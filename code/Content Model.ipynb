{
 "cells": [
  {
   "cell_type": "markdown",
   "metadata": {
    "heading_collapsed": true,
    "id": "h3nBMTwpG_UW"
   },
   "source": [
    "# Imports"
   ]
  },
  {
   "cell_type": "code",
   "execution_count": 1,
   "metadata": {
    "ExecuteTime": {
     "end_time": "2022-04-15T16:35:15.257573Z",
     "start_time": "2022-04-15T16:35:10.853328Z"
    },
    "colab": {
     "base_uri": "https://localhost:8080/"
    },
    "hidden": true,
    "id": "-yPpCj1E8wtP",
    "outputId": "db26f5f9-205b-4e56-cf7a-9aad6b530337",
    "scrolled": true
   },
   "outputs": [
    {
     "name": "stdout",
     "output_type": "stream",
     "text": [
      "Requirement already satisfied: chess in c:\\users\\guillaume\\anaconda3\\lib\\site-packages (1.9.0)\n",
      "Requirement already satisfied: tensorflow in c:\\users\\guillaume\\anaconda3\\lib\\site-packages (2.8.0)\n",
      "Requirement already satisfied: flatbuffers>=1.12 in c:\\users\\guillaume\\anaconda3\\lib\\site-packages (from tensorflow) (2.0)\n",
      "Requirement already satisfied: typing-extensions>=3.6.6 in c:\\users\\guillaume\\anaconda3\\lib\\site-packages (from tensorflow) (3.10.0.2)\n",
      "Requirement already satisfied: astunparse>=1.6.0 in c:\\users\\guillaume\\anaconda3\\lib\\site-packages (from tensorflow) (1.6.3)\n",
      "Requirement already satisfied: termcolor>=1.1.0 in c:\\users\\guillaume\\anaconda3\\lib\\site-packages (from tensorflow) (1.1.0)\n",
      "Requirement already satisfied: opt-einsum>=2.3.2 in c:\\users\\guillaume\\anaconda3\\lib\\site-packages (from tensorflow) (3.3.0)\n",
      "Requirement already satisfied: grpcio<2.0,>=1.24.3 in c:\\users\\guillaume\\anaconda3\\lib\\site-packages (from tensorflow) (1.44.0)\n",
      "Requirement already satisfied: wrapt>=1.11.0 in c:\\users\\guillaume\\anaconda3\\lib\\site-packages (from tensorflow) (1.12.1)\n",
      "Requirement already satisfied: gast>=0.2.1 in c:\\users\\guillaume\\anaconda3\\lib\\site-packages (from tensorflow) (0.5.3)\n",
      "Requirement already satisfied: six>=1.12.0 in c:\\users\\guillaume\\anaconda3\\lib\\site-packages (from tensorflow) (1.16.0)\n",
      "Requirement already satisfied: keras-preprocessing>=1.1.1 in c:\\users\\guillaume\\anaconda3\\lib\\site-packages (from tensorflow) (1.1.2)\n",
      "Requirement already satisfied: numpy>=1.20 in c:\\users\\guillaume\\anaconda3\\lib\\site-packages (from tensorflow) (1.20.3)\n",
      "Requirement already satisfied: setuptools in c:\\users\\guillaume\\anaconda3\\lib\\site-packages (from tensorflow) (58.0.4)\n",
      "Requirement already satisfied: h5py>=2.9.0 in c:\\users\\guillaume\\anaconda3\\lib\\site-packages (from tensorflow) (3.2.1)\n",
      "Requirement already satisfied: libclang>=9.0.1 in c:\\users\\guillaume\\anaconda3\\lib\\site-packages (from tensorflow) (13.0.0)\n",
      "Requirement already satisfied: tensorflow-io-gcs-filesystem>=0.23.1 in c:\\users\\guillaume\\anaconda3\\lib\\site-packages (from tensorflow) (0.24.0)\n",
      "Requirement already satisfied: keras<2.9,>=2.8.0rc0 in c:\\users\\guillaume\\anaconda3\\lib\\site-packages (from tensorflow) (2.8.0)\n",
      "Requirement already satisfied: google-pasta>=0.1.1 in c:\\users\\guillaume\\anaconda3\\lib\\site-packages (from tensorflow) (0.2.0)\n",
      "Requirement already satisfied: protobuf>=3.9.2 in c:\\users\\guillaume\\anaconda3\\lib\\site-packages (from tensorflow) (3.20.0)\n",
      "Requirement already satisfied: tf-estimator-nightly==2.8.0.dev2021122109 in c:\\users\\guillaume\\anaconda3\\lib\\site-packages (from tensorflow) (2.8.0.dev2021122109)\n",
      "Requirement already satisfied: tensorboard<2.9,>=2.8 in c:\\users\\guillaume\\anaconda3\\lib\\site-packages (from tensorflow) (2.8.0)\n",
      "Requirement already satisfied: absl-py>=0.4.0 in c:\\users\\guillaume\\anaconda3\\lib\\site-packages (from tensorflow) (1.0.0)\n",
      "Requirement already satisfied: wheel<1.0,>=0.23.0 in c:\\users\\guillaume\\anaconda3\\lib\\site-packages (from astunparse>=1.6.0->tensorflow) (0.37.0)\n",
      "Requirement already satisfied: google-auth-oauthlib<0.5,>=0.4.1 in c:\\users\\guillaume\\anaconda3\\lib\\site-packages (from tensorboard<2.9,>=2.8->tensorflow) (0.4.6)\n",
      "Requirement already satisfied: tensorboard-data-server<0.7.0,>=0.6.0 in c:\\users\\guillaume\\anaconda3\\lib\\site-packages (from tensorboard<2.9,>=2.8->tensorflow) (0.6.1)\n",
      "Requirement already satisfied: werkzeug>=0.11.15 in c:\\users\\guillaume\\anaconda3\\lib\\site-packages (from tensorboard<2.9,>=2.8->tensorflow) (2.0.2)\n",
      "Requirement already satisfied: requests<3,>=2.21.0 in c:\\users\\guillaume\\anaconda3\\lib\\site-packages (from tensorboard<2.9,>=2.8->tensorflow) (2.26.0)\n",
      "Requirement already satisfied: tensorboard-plugin-wit>=1.6.0 in c:\\users\\guillaume\\anaconda3\\lib\\site-packages (from tensorboard<2.9,>=2.8->tensorflow) (1.8.1)\n",
      "Requirement already satisfied: google-auth<3,>=1.6.3 in c:\\users\\guillaume\\anaconda3\\lib\\site-packages (from tensorboard<2.9,>=2.8->tensorflow) (2.6.5)\n",
      "Requirement already satisfied: markdown>=2.6.8 in c:\\users\\guillaume\\anaconda3\\lib\\site-packages (from tensorboard<2.9,>=2.8->tensorflow) (3.3.6)\n",
      "Requirement already satisfied: rsa<5,>=3.1.4 in c:\\users\\guillaume\\anaconda3\\lib\\site-packages (from google-auth<3,>=1.6.3->tensorboard<2.9,>=2.8->tensorflow) (4.8)\n",
      "Requirement already satisfied: pyasn1-modules>=0.2.1 in c:\\users\\guillaume\\anaconda3\\lib\\site-packages (from google-auth<3,>=1.6.3->tensorboard<2.9,>=2.8->tensorflow) (0.2.8)\n",
      "Requirement already satisfied: cachetools<6.0,>=2.0.0 in c:\\users\\guillaume\\anaconda3\\lib\\site-packages (from google-auth<3,>=1.6.3->tensorboard<2.9,>=2.8->tensorflow) (5.0.0)\n",
      "Requirement already satisfied: requests-oauthlib>=0.7.0 in c:\\users\\guillaume\\anaconda3\\lib\\site-packages (from google-auth-oauthlib<0.5,>=0.4.1->tensorboard<2.9,>=2.8->tensorflow) (1.3.1)\n",
      "Requirement already satisfied: importlib-metadata>=4.4 in c:\\users\\guillaume\\anaconda3\\lib\\site-packages (from markdown>=2.6.8->tensorboard<2.9,>=2.8->tensorflow) (4.8.1)\n",
      "Requirement already satisfied: zipp>=0.5 in c:\\users\\guillaume\\anaconda3\\lib\\site-packages (from importlib-metadata>=4.4->markdown>=2.6.8->tensorboard<2.9,>=2.8->tensorflow) (3.6.0)\n",
      "Requirement already satisfied: pyasn1<0.5.0,>=0.4.6 in c:\\users\\guillaume\\anaconda3\\lib\\site-packages (from pyasn1-modules>=0.2.1->google-auth<3,>=1.6.3->tensorboard<2.9,>=2.8->tensorflow) (0.4.8)\n",
      "Requirement already satisfied: certifi>=2017.4.17 in c:\\users\\guillaume\\anaconda3\\lib\\site-packages (from requests<3,>=2.21.0->tensorboard<2.9,>=2.8->tensorflow) (2021.10.8)\n",
      "Requirement already satisfied: urllib3<1.27,>=1.21.1 in c:\\users\\guillaume\\anaconda3\\lib\\site-packages (from requests<3,>=2.21.0->tensorboard<2.9,>=2.8->tensorflow) (1.26.7)\n",
      "Requirement already satisfied: charset-normalizer~=2.0.0 in c:\\users\\guillaume\\anaconda3\\lib\\site-packages (from requests<3,>=2.21.0->tensorboard<2.9,>=2.8->tensorflow) (2.0.4)\n",
      "Requirement already satisfied: idna<4,>=2.5 in c:\\users\\guillaume\\anaconda3\\lib\\site-packages (from requests<3,>=2.21.0->tensorboard<2.9,>=2.8->tensorflow) (3.2)\n",
      "Requirement already satisfied: oauthlib>=3.0.0 in c:\\users\\guillaume\\anaconda3\\lib\\site-packages (from requests-oauthlib>=0.7.0->google-auth-oauthlib<0.5,>=0.4.1->tensorboard<2.9,>=2.8->tensorflow) (3.2.0)\n"
     ]
    }
   ],
   "source": [
    "!pip install chess\n",
    "!pip install tensorflow"
   ]
  },
  {
   "cell_type": "code",
   "execution_count": 2,
   "metadata": {
    "ExecuteTime": {
     "end_time": "2022-04-24T11:50:18.181920Z",
     "start_time": "2022-04-24T11:50:12.591781Z"
    },
    "hidden": true,
    "id": "qXsZqtVT8xkT"
   },
   "outputs": [],
   "source": [
    "from tensorflow import keras\n",
    "from keras.models import Sequential\n",
    "from keras.layers import Dense\n",
    "from keras.layers import LSTM\n",
    "from keras.layers import InputLayer\n",
    "from keras.layers import *\n",
    "from keras.optimizer_v2.adam import Adam\n",
    "from keras.callbacks import EarlyStopping, ModelCheckpoint\n",
    "from sklearn.model_selection import train_test_split\n",
    "from sklearn.preprocessing import MinMaxScaler\n",
    "import numpy as np\n",
    "import matplotlib.pyplot as plt\n",
    "import ast\n",
    "from IPython.display import clear_output\n",
    "import sys\n",
    "\n",
    "import chess.pgn"
   ]
  },
  {
   "cell_type": "markdown",
   "metadata": {
    "heading_collapsed": true,
    "id": "6vw4RzYu8I7r"
   },
   "source": [
    "# Data Preparation"
   ]
  },
  {
   "cell_type": "markdown",
   "metadata": {
    "heading_collapsed": true,
    "hidden": true,
    "id": "ys40O5iP_xZP"
   },
   "source": [
    "## Functions"
   ]
  },
  {
   "cell_type": "code",
   "execution_count": 2,
   "metadata": {
    "ExecuteTime": {
     "end_time": "2022-04-19T14:03:10.058348Z",
     "start_time": "2022-04-19T14:03:10.011473Z"
    },
    "hidden": true,
    "id": "yCn9QAyR9OWW"
   },
   "outputs": [],
   "source": [
    "import csv\n",
    "import collections\n",
    "openings = collections.defaultdict(list)\n",
    "\n",
    "with open('openings.csv', mode='r') as infile:\n",
    "    reader = csv.reader(infile)\n",
    "    headers = next(reader) \n",
    "    for rows in reader:\n",
    "      move = \" \".join(ast.literal_eval(rows[3]))\n",
    "      openings[rows[2]].append(move)"
   ]
  },
  {
   "cell_type": "code",
   "execution_count": 3,
   "metadata": {
    "ExecuteTime": {
     "end_time": "2022-04-19T14:03:14.414529Z",
     "start_time": "2022-04-19T14:03:14.406601Z"
    },
    "hidden": true,
    "id": "ICVj4FZo9Ans"
   },
   "outputs": [],
   "source": [
    "# Si pas de variante trouvée, moyenne des longueurs des variantes\n",
    "\n",
    "def get_mid_game(game):\n",
    "  mean = 0\n",
    "  eco_code = game.headers[\"ECO\"]\n",
    "  move_sequence = str(game.mainline_moves()).replace(\". \", \".\")\n",
    "  for move in openings[eco_code]:\n",
    "    mean += len(move.split(\" \"))\n",
    "    if move in move_sequence:\n",
    "      return len(move.split(\" \"))\n",
    "  if len(openings[eco_code]) > 0:\n",
    "    return mean//len(openings[eco_code])\n",
    "  else: \n",
    "    return 0"
   ]
  },
  {
   "cell_type": "code",
   "execution_count": 4,
   "metadata": {
    "ExecuteTime": {
     "end_time": "2022-04-19T14:03:15.766511Z",
     "start_time": "2022-04-19T14:03:15.755540Z"
    },
    "hidden": true,
    "id": "-w4U2QLKy6Fo"
   },
   "outputs": [],
   "source": [
    "# 4 or less pieces on the board (excluding King and pawns)\n",
    "def get_end_game(game, theory):\n",
    "    board = chess.Board()\n",
    "    count = 0\n",
    "    pieces = ['r', 'n', 'b', 'q']\n",
    "    if theory == \"minev\":\n",
    "        # For each move\n",
    "        for move in game.mainline_moves():\n",
    "            board.push(move)\n",
    "            pieces_count = 0\n",
    "            # Coun how many pieces different from pawns and kings\n",
    "            for p in pieces:\n",
    "                pieces_count += str(board).count(p)\n",
    "                pieces_count += str(board).count(p.capitalize())\n",
    "            # If that number is less or equal to 4 return the number of moves to get to end game\n",
    "            if pieces_count <= 4:\n",
    "                return count\n",
    "            count += 1\n",
    "    elif theory == \"flear\":\n",
    "        for move in game.mainline_moves():\n",
    "            board.push(move)\n",
    "            pieces_count_w = 0\n",
    "            pieces_count_b = 0\n",
    "            # Coun how many pieces different from pawns and kings\n",
    "            for p in pieces:\n",
    "                pieces_count_b += str(board).count(p)\n",
    "                pieces_count_w += str(board).count(p.capitalize())\n",
    "            # If that number is less or equal to 4 return the number of moves to get to end game\n",
    "            if pieces_count_b <= 1 and pieces_count_w <= 1:\n",
    "                return count\n",
    "            count += 1\n",
    "    elif theory == \"fine\":\n",
    "        for move in game.mainline_moves():\n",
    "            board.push(move)\n",
    "            if (not \"q\" in str(board)) and (not \"Q\" in str(board)):\n",
    "                return count\n",
    "            count += 1\n",
    "    return 1000"
   ]
  },
  {
   "cell_type": "code",
   "execution_count": 5,
   "metadata": {
    "ExecuteTime": {
     "end_time": "2022-04-19T14:03:20.604589Z",
     "start_time": "2022-04-19T14:03:20.585610Z"
    },
    "hidden": true,
    "id": "2V6yKJ4aat8P"
   },
   "outputs": [],
   "source": [
    "def get_pawns(board_list):\n",
    "  black_pawns = []\n",
    "  white_pawns = []\n",
    "  # get all positions of pawns\n",
    "  for i, line in enumerate(board_list):\n",
    "    for j, tile in enumerate(line):\n",
    "      if tile == \"p\":\n",
    "        black_pawns.append((i,j))\n",
    "      if tile == \"P\":\n",
    "        white_pawns.append((i,j))\n",
    "  return (black_pawns, white_pawns)\n"
   ]
  },
  {
   "cell_type": "code",
   "execution_count": 6,
   "metadata": {
    "ExecuteTime": {
     "end_time": "2022-04-19T14:03:21.440180Z",
     "start_time": "2022-04-19T14:03:21.426218Z"
    },
    "hidden": true,
    "id": "0q_H39ptP3mj"
   },
   "outputs": [],
   "source": [
    "def get_passed_pawns(pawns):\n",
    "  black_pawns, white_pawns = pawns\n",
    "  passed_pawns = black_pawns + white_pawns\n",
    "  for bp in black_pawns:\n",
    "    for wp in white_pawns:\n",
    "      if bp[0] < wp[0]:\n",
    "        if bp[1] - 1 == wp[1] or bp[1] + 1 == wp[1] or bp[1] == wp[1]:\n",
    "          passed_pawns.remove(bp)\n",
    "          break\n",
    "\n",
    "  for wp in white_pawns:\n",
    "    for bp in black_pawns:\n",
    "      if wp[0] > bp[0]:\n",
    "        if bp[1] == wp[1] - 1 or bp[1] == wp[1] + 1 or bp[1] == wp[1]:\n",
    "          passed_pawns.remove(wp)\n",
    "          break\n",
    "  return passed_pawns"
   ]
  },
  {
   "cell_type": "code",
   "execution_count": 7,
   "metadata": {
    "ExecuteTime": {
     "end_time": "2022-04-19T14:03:22.804327Z",
     "start_time": "2022-04-19T14:03:22.799340Z"
    },
    "hidden": true,
    "id": "NAh_costaneC"
   },
   "outputs": [],
   "source": [
    "def get_isolated_pawns(pawns):\n",
    "  black_pawns, white_pawns = pawns\n",
    "  isolated_pawns = black_pawns + white_pawns\n",
    "  for p in black_pawns:\n",
    "    for bp in black_pawns:\n",
    "      if p != bp:\n",
    "        if p[1] - 1 == bp[1] or p[1] + 1 == bp[1]:\n",
    "          isolated_pawns.remove(p)\n",
    "          break\n",
    "  for p in white_pawns:\n",
    "    for wp in white_pawns:\n",
    "      if p != wp:\n",
    "        if p[1] - 1 == wp[1] or p[1] + 1 == wp[1]:\n",
    "          isolated_pawns.remove(p)\n",
    "          break\n",
    "\n",
    "  return isolated_pawns"
   ]
  },
  {
   "cell_type": "code",
   "execution_count": 8,
   "metadata": {
    "ExecuteTime": {
     "end_time": "2022-04-19T14:03:23.829931Z",
     "start_time": "2022-04-19T14:03:23.815938Z"
    },
    "hidden": true,
    "id": "_BAA_EtGOGcG"
   },
   "outputs": [],
   "source": [
    "def handle_dynamic(game, game_size, end):\n",
    "  single_game = []\n",
    "  cost = [1, 3.05, 3.33, 5.63, 9.5, 10, 1, 3.05, 3.33, 5.63, 9.5, 10]\n",
    "  lex = [\"P\", \"N\", \"B\", \"R\", \"Q\", \"K\", \"p\", \"n\", \"b\", \"r\", \"q\", \"k\"]\n",
    "  non_passed = [[1, 1, 1, 1, 1, 1, 1, 1],\n",
    "                [0.90, 0.95, 1.05, 1.10, 1.10, 1.05, 0.95, 0.90],\n",
    "                [0.90, 0.95, 1.05, 1.15, 1.15, 1.05, 0.95, 0.90],\n",
    "                [0.90, 0.95, 1.10, 1.20, 1.20, 1.10, 0.95, 0.90],\n",
    "                [0.97, 1.03, 1.17, 1.27, 1.27, 1.17, 1.03, 0.97],\n",
    "                [1.06, 1.12, 1.25, 1.40, 1.40, 1.25, 1.12, 1.06],\n",
    "                [1, 1, 1, 1, 1, 1, 1, 1],\n",
    "                [1, 1, 1, 1, 1, 1, 1, 1]]\n",
    "  isolated = [1, 1, 1, 1.05, 1.30, 2.1, 1, 1]\n",
    "  connected = [1, 1, 1, 1.15, 1.35, 2.1, 1, 1]\n",
    "  passed = [1, 1, 1, 1.30, 1.55, 2.1, 1, 1]\n",
    "  passed_connected = [1, 1, 1, 1.55, 2.3, 3.5, 1, 1]\n",
    "\n",
    "  midgame = get_mid_game(game) + 1\n",
    "  endgame = get_end_game(game, theory=end)\n",
    "  board = chess.Board()\n",
    "\n",
    "  for n, move in enumerate(game.mainline_moves()):\n",
    "\n",
    "    if n == midgame:\n",
    "      non_passed = np.ones((8,8))\n",
    "    elif n == endgame:\n",
    "      non_passed = [[1, 1, 1, 1, 1, 1, 1, 1],\n",
    "                [1.20, 1.05, 0.95, 0.90, 0.90, 0.95, 1.05, 1.20],\n",
    "                [1.20, 1.05, 0.95, 0.90, 0.90, 0.95, 1.05, 1.20],\n",
    "                [1.25, 1.10, 1.00, 0.95, 0.95, 1.00, 1.10, 1.25],\n",
    "                [1.33, 1.17, 1.07, 1.00, 1.00, 1.07, 1.17, 1.33],\n",
    "                [1.45, 1.29, 1.16, 1.05, 1.05, 1.16, 1.29, 1.45],\n",
    "                [1, 1, 1, 1, 1, 1, 1, 1],\n",
    "                [1, 1, 1, 1, 1, 1, 1, 1]]\n",
    "\n",
    "\n",
    "    board.push(move)\n",
    "    board_list = str(board).replace(\" \",\"\").split(\"\\n\")\n",
    "    pawns = get_pawns(board_list)\n",
    "    # gives a list of passed pawns\n",
    "    passed_pawns = get_passed_pawns(pawns)\n",
    "    # gives a list of isolated pawns\n",
    "    isolated_pawns = get_isolated_pawns(pawns)\n",
    "    # gives a list of connected pawns\n",
    "    connected_pawns = connected_pawns = [x for x in pawns[0] + pawns[1] if x not in isolated_pawns]\n",
    "    vec = [np.zeros((8,8)) for i in range(12)]\n",
    "    for line_pos in range(8) :\n",
    "      for col_pos in range(8) :\n",
    "        piece = board_list[line_pos][col_pos]\n",
    "        if piece in lex :\n",
    "          lex_pos = lex.index(piece)\n",
    "          value = cost[lex_pos]\n",
    "          multiplier = 1\n",
    "\n",
    "          # If pawn is white, rank is inverted\n",
    "          if piece == \"p\":\n",
    "            rank = line_pos\n",
    "          elif piece == \"P\":\n",
    "            rank = -(line_pos + 1)\n",
    "\n",
    "          if piece == \"p\" or piece == \"P\":\n",
    "            if (line_pos, col_pos) not in passed_pawns:\n",
    "              value = non_passed[rank][col_pos]\n",
    "            if (line_pos, col_pos) in passed_pawns and (line_pos, col_pos) in connected_pawns:\n",
    "              multiplier *= passed_connected[rank]\n",
    "            elif (line_pos, col_pos) in passed_pawns:\n",
    "              multiplier *= passed[rank]\n",
    "            elif (line_pos, col_pos) in connected_pawns:\n",
    "              multiplier *= connected[rank]\n",
    "            if (line_pos, col_pos) in isolated_pawns:\n",
    "              multiplier *= isolated[rank]\n",
    "\n",
    "          # Assign a value according to the piece position and a multiplier\n",
    "          vec[lex_pos][line_pos][col_pos] = value * multiplier\n",
    "    single_game.append(np.asarray(vec))\n",
    "    if n == game_size - 1: \n",
    "      break\n",
    "  \n",
    "  if n < game_size - 1:\n",
    "    for i in range(game_size - n - 1) :\n",
    "        single_game.append([np.zeros((8,8)) for i in range(12)])\n",
    "  return np.asarray(single_game)"
   ]
  },
  {
   "cell_type": "code",
   "execution_count": 9,
   "metadata": {
    "ExecuteTime": {
     "end_time": "2022-04-19T14:04:06.208088Z",
     "start_time": "2022-04-19T14:04:06.188118Z"
    },
    "hidden": true
   },
   "outputs": [],
   "source": [
    "def handle_dynamic_speelman(game, game_size):\n",
    "  single_game = []\n",
    "  cost = [1, 3.05, 3.33, 5.63, 9.5, 10, 1, 3.05, 3.33, 5.63, 9.5, 10]\n",
    "  lex = [\"P\", \"N\", \"B\", \"R\", \"Q\", \"K\", \"p\", \"n\", \"b\", \"r\", \"q\", \"k\"]\n",
    "  non_passed = [[1, 1, 1, 1, 1, 1, 1, 1],\n",
    "                [0.90, 0.95, 1.05, 1.10, 1.10, 1.05, 0.95, 0.90],\n",
    "                [0.90, 0.95, 1.05, 1.15, 1.15, 1.05, 0.95, 0.90],\n",
    "                [0.90, 0.95, 1.10, 1.20, 1.20, 1.10, 0.95, 0.90],\n",
    "                [0.97, 1.03, 1.17, 1.27, 1.27, 1.17, 1.03, 0.97],\n",
    "                [1.06, 1.12, 1.25, 1.40, 1.40, 1.25, 1.12, 1.06],\n",
    "                [1, 1, 1, 1, 1, 1, 1, 1],\n",
    "                [1, 1, 1, 1, 1, 1, 1, 1]]\n",
    "  isolated = [1, 1, 1, 1.05, 1.30, 2.1, 1, 1]\n",
    "  connected = [1, 1, 1, 1.15, 1.35, 2.1, 1, 1]\n",
    "  passed = [1, 1, 1, 1.30, 1.55, 2.1, 1, 1]\n",
    "  passed_connected = [1, 1, 1, 1.55, 2.3, 3.5, 1, 1]\n",
    "\n",
    "  midgame = get_mid_game(game) + 1\n",
    "#   endgame = get_end_game(game, theory=end)\n",
    "  endgame = False\n",
    "  board = chess.Board()\n",
    "\n",
    "  for n, move in enumerate(game.mainline_moves()):\n",
    "\n",
    "    if n == midgame:\n",
    "      non_passed = np.ones((8,8))\n",
    "    if endgame:\n",
    "      non_passed = [[1, 1, 1, 1, 1, 1, 1, 1],\n",
    "                [1.20, 1.05, 0.95, 0.90, 0.90, 0.95, 1.05, 1.20],\n",
    "                [1.20, 1.05, 0.95, 0.90, 0.90, 0.95, 1.05, 1.20],\n",
    "                [1.25, 1.10, 1.00, 0.95, 0.95, 1.00, 1.10, 1.25],\n",
    "                [1.33, 1.17, 1.07, 1.00, 1.00, 1.07, 1.17, 1.33],\n",
    "                [1.45, 1.29, 1.16, 1.05, 1.05, 1.16, 1.29, 1.45],\n",
    "                [1, 1, 1, 1, 1, 1, 1, 1],\n",
    "                [1, 1, 1, 1, 1, 1, 1, 1]]\n",
    "\n",
    "\n",
    "    board.push(move)\n",
    "    board_list = str(board).replace(\" \",\"\").split(\"\\n\")\n",
    "    pawns = get_pawns(board_list)\n",
    "    # gives a list of passed pawns\n",
    "    passed_pawns = get_passed_pawns(pawns)\n",
    "    # gives a list of isolated pawns\n",
    "    isolated_pawns = get_isolated_pawns(pawns)\n",
    "    # gives a list of connected pawns\n",
    "    connected_pawns = connected_pawns = [x for x in pawns[0] + pawns[1] if x not in isolated_pawns]\n",
    "    vec = [np.zeros((8,8)) for i in range(12)]\n",
    "    for line_pos in range(8) :\n",
    "      for col_pos in range(8) :\n",
    "        piece = board_list[line_pos][col_pos]\n",
    "        if piece in lex :\n",
    "          lex_pos = lex.index(piece)\n",
    "          value = cost[lex_pos]\n",
    "          multiplier = 1\n",
    "\n",
    "          # If pawn is white, rank is inverted\n",
    "          if piece == \"p\":\n",
    "            rank = line_pos\n",
    "          elif piece == \"P\":\n",
    "            rank = -(line_pos + 1)\n",
    "\n",
    "          if piece == \"p\" or piece == \"P\":\n",
    "            if (line_pos, col_pos) not in passed_pawns:\n",
    "              value = non_passed[rank][col_pos]\n",
    "            if (line_pos, col_pos) in passed_pawns and (line_pos, col_pos) in connected_pawns:\n",
    "              multiplier *= passed_connected[rank]\n",
    "            elif (line_pos, col_pos) in passed_pawns:\n",
    "              multiplier *= passed[rank]\n",
    "            elif (line_pos, col_pos) in connected_pawns:\n",
    "              multiplier *= connected[rank]\n",
    "            if (line_pos, col_pos) in isolated_pawns:\n",
    "              multiplier *= isolated[rank]\n",
    "\n",
    "          # Assign a value according to the piece position and a multiplier\n",
    "          vec[lex_pos][line_pos][col_pos] = value * multiplier\n",
    "          vec = np.asarray(vec)\n",
    "    single_game.append(vec)\n",
    "    \n",
    "    if (vec[:5].sum() <= 13) and (vec[6:11].sum() < 13):\n",
    "#       print(\"Endgame detected : \", vec[:5].sum(), vec[6:11].sum(), n)\n",
    "      endgame = True\n",
    "    \n",
    "    if n == game_size - 1: \n",
    "      break\n",
    "  \n",
    "  if n < game_size - 1:\n",
    "    for i in range(game_size - n - 1) :\n",
    "        single_game.append([np.zeros((8,8)) for i in range(12)])\n",
    "  return np.asarray(single_game)"
   ]
  },
  {
   "cell_type": "markdown",
   "metadata": {
    "heading_collapsed": true,
    "hidden": true,
    "id": "_md5PEdO_aH6"
   },
   "source": [
    "## Convert PGN to bitmap/algebraic/alphazero/dynamic representation"
   ]
  },
  {
   "cell_type": "code",
   "execution_count": 10,
   "metadata": {
    "ExecuteTime": {
     "end_time": "2022-04-19T14:05:08.235530Z",
     "start_time": "2022-04-19T14:05:08.221540Z"
    },
    "hidden": true,
    "id": "ih2uvHq98HKF"
   },
   "outputs": [],
   "source": [
    "\"\"\" Allows to convert a PGN file into bitmap/algebraic/alphazero/dynamic representation \"\"\"\n",
    "def convert_pgn(PGN_FILE, data_type = \"bitmap\", game_size = 80, max_amount=100, start_at=0, endgame=\"minev\") :\n",
    "    data=[]\n",
    "    target=[]\n",
    "    lex = [\"P\", \"N\", \"B\", \"R\", \"Q\", \"K\", \"p\", \"n\", \"b\", \"r\", \"q\", \"k\"]\n",
    "    if data_type == \"algebraic\" :\n",
    "        cost = [1, 3, 3, 5, 9, 10, 1, 3, 3, 5, 9, 10]\n",
    "    elif data_type == \"bitmap\" :\n",
    "        cost = [1 for i in range(12)]\n",
    "    elif data_type == \"alphazero\" :\n",
    "        cost = [1, 3.05, 3.33, 5.63, 9.5, 10, 1, 3.05, 3.33, 5.63, 9.5, 10]\n",
    "    amount = 0\n",
    "    with open(PGN_FILE) as f:\n",
    "        game = 0\n",
    "        #Parse each game\n",
    "        while True:\n",
    "            game = chess.pgn.read_game(f)\n",
    "            if amount >= start_at:\n",
    "                clear_output(wait=True)\n",
    "                print(amount, flush=True)\n",
    "                move_count = 0\n",
    "                #Avoid the last element\n",
    "                if game is None :\n",
    "                  break \n",
    "\n",
    "                #Get the result of the game\n",
    "                score = game.headers[\"Result\"]\n",
    "                if score.startswith(\"1-0\"):\n",
    "                    target.append(0)\n",
    "                elif score.startswith(\"0-1\"):\n",
    "                    target.append(1)\n",
    "                else:\n",
    "                    target.append(2)\n",
    "\n",
    "                # DYNAMIC DATATYPE PART\n",
    "                if data_type == \"dynamic\" :\n",
    "                    data.append(handle_dynamic(game, game_size=game_size, end=endgame))\n",
    "#                     data.append(handle_dynamic_speelman(game, game_size=game_size))\n",
    "                else :\n",
    "                    #Actual game\n",
    "                    single_game = []\n",
    "                    board = chess.Board()\n",
    "\n",
    "                    #Parse each move\n",
    "                    for move in game.mainline_moves() :\n",
    "                        move_count+=1\n",
    "                        vec = [np.zeros((8,8)) for i in range(12)]\n",
    "                        board.push(move)\n",
    "                        board_list = str(board).replace(\" \",\"\").split(\"\\n\")\n",
    "                        for line_pos in range(8) :\n",
    "                            for col_pos in range(8) :\n",
    "                                if board_list[line_pos][col_pos] in lex :\n",
    "                                    lex_pos = lex.index(board_list[line_pos][col_pos])\n",
    "                                    vec[lex_pos][line_pos][col_pos] = cost[lex_pos]\n",
    "                        single_game.append(np.asarray(vec))\n",
    "                        #Not exceed game size\n",
    "                        if move_count == game_size :\n",
    "                            break\n",
    "                    #If it doesn't reach the game size, fill with 0\n",
    "                    if move_count < game_size :\n",
    "                        for i in range(game_size-move_count) :\n",
    "                            single_game.append([np.zeros((8,8)) for i in range(12)])\n",
    "\n",
    "                    single_game = np.asarray(single_game)\n",
    "                    data.append(single_game)\n",
    "                    \n",
    "            amount += 1\n",
    "            if amount == max_amount + start_at:\n",
    "                break\n",
    "\n",
    "        # Reshape datas to fit the model\n",
    "        data = [[y.reshape(768,) for y in x] for x in data]\n",
    "        # Normalisation\n",
    "        data = np.asarray(data)\n",
    "        # Count White wins, Black wins and Draws\n",
    "        target = np.array(target, dtype=int)\n",
    "        unique, counts = np.unique(target, return_counts=True)\n",
    "        amount = amount - start_at\n",
    "        print(f\"{amount} games converted to {data_type}.\")\n",
    "        print(f\"{round(counts[0]/amount*100, 2)}% White wins, {round(counts[1]/amount*100, 2)}% Black wins, {round(counts[2]/amount*100, 2)}% Draws.\")\n",
    "        # Convert game results to categorical data\n",
    "        target = keras.utils.to_categorical(target, num_classes=3)\n",
    "        \n",
    "    return (data, target)"
   ]
  },
  {
   "cell_type": "markdown",
   "metadata": {
    "heading_collapsed": true,
    "id": "CI9OphWOLz_Z"
   },
   "source": [
    "# Dataset"
   ]
  },
  {
   "cell_type": "code",
   "execution_count": 11,
   "metadata": {
    "ExecuteTime": {
     "end_time": "2022-04-19T14:05:10.623128Z",
     "start_time": "2022-04-19T14:05:10.619139Z"
    },
    "hidden": true,
    "id": "9UmBSDsEJHx8"
   },
   "outputs": [],
   "source": [
    "SEQ_LENGTH = 80"
   ]
  },
  {
   "cell_type": "code",
   "execution_count": 12,
   "metadata": {
    "ExecuteTime": {
     "end_time": "2022-04-17T08:22:19.381324Z",
     "start_time": "2022-04-17T08:16:11.721466Z"
    },
    "colab": {
     "base_uri": "https://localhost:8080/"
    },
    "hidden": true,
    "id": "vqcmZVmvJmqV",
    "outputId": "fc394b09-8b59-42e7-fe5f-419281d4a78a",
    "scrolled": true
   },
   "outputs": [
    {
     "name": "stdout",
     "output_type": "stream",
     "text": [
      "29999\n",
      "30000 games converted to bitmap.\n",
      "36.06% White wins, 31.46% Black wins, 32.48% Draws.\n"
     ]
    }
   ],
   "source": [
    "dataset, target = convert_pgn(\"KingBase2018-B20-B49.pgn\", max_amount=30000, data_type=\"bitmap\", game_size=SEQ_LENGTH)"
   ]
  },
  {
   "cell_type": "code",
   "execution_count": 16,
   "metadata": {
    "ExecuteTime": {
     "end_time": "2022-04-19T14:16:16.052415Z",
     "start_time": "2022-04-19T14:16:16.037454Z"
    },
    "colab": {
     "base_uri": "https://localhost:8080/"
    },
    "hidden": true,
    "id": "u6f7QUKVPQpW",
    "outputId": "0d3c6968-989e-4c84-ac74-5eb04ed07e2f"
   },
   "outputs": [
    {
     "data": {
      "text/plain": [
       "(30000, 80, 768)"
      ]
     },
     "execution_count": 16,
     "metadata": {},
     "output_type": "execute_result"
    }
   ],
   "source": [
    "# Optimization:\n",
    "# https://medium.com/geekculture/10-hyperparameters-to-keep-an-eye-on-for-your-lstm-model-and-other-tips-f0ff5b63fcd4\n",
    "\n",
    "# TODO : Normalize and (maybe) Standardize data\n",
    "# https://scikit-learn.org/stable/modules/generated/sklearn.preprocessing.MinMaxScaler.html\n",
    "# Only works in 2 dim\n",
    "# https://scikit-learn.org/stable/modules/generated/sklearn.preprocessing.StandardScaler.html\n",
    "# https://stackoverflow.com/questions/50125844/how-to-standard-scale-a-3d-matrix\n",
    "dataset.shape"
   ]
  },
  {
   "cell_type": "code",
   "execution_count": 18,
   "metadata": {
    "ExecuteTime": {
     "end_time": "2022-04-19T14:19:01.649473Z",
     "start_time": "2022-04-19T14:18:50.233409Z"
    },
    "hidden": true,
    "id": "d33GhFpfBDVC"
   },
   "outputs": [],
   "source": [
    "x_train, x_rem, y_train, y_rem = train_test_split(dataset, target, train_size = 0.6, random_state = 4) # random_state = 4 for reproductible results"
   ]
  },
  {
   "cell_type": "code",
   "execution_count": 20,
   "metadata": {
    "ExecuteTime": {
     "end_time": "2022-04-19T14:19:15.120775Z",
     "start_time": "2022-04-19T14:19:13.741341Z"
    },
    "hidden": true
   },
   "outputs": [],
   "source": [
    "x_val, x_test, y_val, y_test = train_test_split(x_rem, y_rem, test_size = 0.5, random_state = 4)"
   ]
  },
  {
   "cell_type": "code",
   "execution_count": 23,
   "metadata": {
    "ExecuteTime": {
     "end_time": "2022-04-19T14:19:49.209918Z",
     "start_time": "2022-04-19T14:19:49.201939Z"
    },
    "hidden": true
   },
   "outputs": [
    {
     "name": "stdout",
     "output_type": "stream",
     "text": [
      "(18000, 80, 768) (6000, 80, 768) (6000, 80, 768)\n"
     ]
    }
   ],
   "source": [
    "print(x_train.shape, x_val.shape, x_test.shape)"
   ]
  },
  {
   "cell_type": "code",
   "execution_count": 24,
   "metadata": {
    "ExecuteTime": {
     "end_time": "2022-04-19T14:19:51.981950Z",
     "start_time": "2022-04-19T14:19:51.920033Z"
    },
    "hidden": true
   },
   "outputs": [
    {
     "name": "stdout",
     "output_type": "stream",
     "text": [
      "[0 1 2] [6518 5647 5835]\n"
     ]
    }
   ],
   "source": [
    "ytrain = np.asarray([np.argmax(x) for x in y_train])\n",
    "unique, counts = np.unique(ytrain, return_counts=True)\n",
    "print(unique, counts)"
   ]
  },
  {
   "cell_type": "code",
   "execution_count": 25,
   "metadata": {
    "ExecuteTime": {
     "end_time": "2022-04-19T14:19:53.565870Z",
     "start_time": "2022-04-19T14:19:53.540906Z"
    },
    "hidden": true
   },
   "outputs": [
    {
     "name": "stdout",
     "output_type": "stream",
     "text": [
      "[0 1 2] [2151 1894 1955]\n"
     ]
    }
   ],
   "source": [
    "ytest = np.asarray([np.argmax(x) for x in y_test])\n",
    "unique, counts = np.unique(ytest, return_counts=True)\n",
    "print(unique, counts)"
   ]
  },
  {
   "cell_type": "code",
   "execution_count": 26,
   "metadata": {
    "ExecuteTime": {
     "end_time": "2022-04-19T14:19:54.434641Z",
     "start_time": "2022-04-19T14:19:54.413673Z"
    },
    "hidden": true
   },
   "outputs": [
    {
     "name": "stdout",
     "output_type": "stream",
     "text": [
      "[0 1 2] [2148 1897 1955]\n"
     ]
    }
   ],
   "source": [
    "yval = np.asarray([np.argmax(x) for x in y_val])\n",
    "unique, counts = np.unique(yval, return_counts=True)\n",
    "print(unique, counts)"
   ]
  },
  {
   "cell_type": "markdown",
   "metadata": {
    "heading_collapsed": true,
    "id": "s8XIHyN9kUkX"
   },
   "source": [
    "# Content Model"
   ]
  },
  {
   "cell_type": "code",
   "execution_count": 31,
   "metadata": {
    "ExecuteTime": {
     "end_time": "2022-04-19T14:22:04.303832Z",
     "start_time": "2022-04-19T14:22:03.666512Z"
    },
    "colab": {
     "base_uri": "https://localhost:8080/"
    },
    "hidden": true,
    "id": "mrKt524hkZMW",
    "outputId": "73f4c0c0-c51f-442f-8718-4ddc03a40f14"
   },
   "outputs": [
    {
     "name": "stdout",
     "output_type": "stream",
     "text": [
      "Model: \"sequential_3\"\n",
      "_________________________________________________________________\n",
      " Layer (type)                Output Shape              Param #   \n",
      "=================================================================\n",
      " lstm_9 (LSTM)               (None, 80, 512)           2623488   \n",
      "                                                                 \n",
      " lstm_10 (LSTM)              (None, 80, 256)           787456    \n",
      "                                                                 \n",
      " lstm_11 (LSTM)              (None, 128)               197120    \n",
      "                                                                 \n",
      " dense_6 (Dense)             (None, 32)                4128      \n",
      "                                                                 \n",
      " dense_7 (Dense)             (None, 3)                 99        \n",
      "                                                                 \n",
      "=================================================================\n",
      "Total params: 3,612,291\n",
      "Trainable params: 3,612,291\n",
      "Non-trainable params: 0\n",
      "_________________________________________________________________\n"
     ]
    }
   ],
   "source": [
    "model = Sequential()\n",
    "model.add(InputLayer(input_shape=(SEQ_LENGTH, 768)))\n",
    "model.add(LSTM(512, activation=\"tanh\", dropout=0.2, return_sequences=True))\n",
    "model.add(LSTM(256, activation=\"tanh\", dropout=0.2, return_sequences=True))\n",
    "model.add(LSTM(128, activation=\"tanh\", dropout=0.2, return_sequences=False))\n",
    "model.add(Dense(32, activation=\"relu\"))\n",
    "# Changement ici\n",
    "model.add(Dense(3, activation='softmax'))\n",
    "\n",
    "# 0.000001\n",
    "adam = Adam(learning_rate=0.000001, beta_1=0.9, beta_2=0.99, amsgrad=False)\n",
    "\n",
    "model.compile(optimizer=adam, loss='categorical_crossentropy', metrics=['accuracy'])\n",
    "early_stopping = EarlyStopping(patience=5)\n",
    "model.summary()"
   ]
  },
  {
   "cell_type": "code",
   "execution_count": 32,
   "metadata": {
    "ExecuteTime": {
     "end_time": "2022-04-20T00:27:23.867555Z",
     "start_time": "2022-04-19T14:22:08.288208Z"
    },
    "colab": {
     "base_uri": "https://localhost:8080/"
    },
    "hidden": true,
    "id": "eMlSVIcwHdPu",
    "outputId": "d67905f9-ecc7-44fc-fedc-180298804d64"
   },
   "outputs": [
    {
     "name": "stdout",
     "output_type": "stream",
     "text": [
      "Epoch 1/80\n",
      "563/563 [==============================] - 538s 949ms/step - loss: 1.0965 - accuracy: 0.3829 - val_loss: 1.0940 - val_accuracy: 0.3940\n",
      "Epoch 2/80\n",
      "563/563 [==============================] - 539s 958ms/step - loss: 1.0926 - accuracy: 0.4087 - val_loss: 1.0911 - val_accuracy: 0.4095\n",
      "Epoch 3/80\n",
      "563/563 [==============================] - 546s 971ms/step - loss: 1.0891 - accuracy: 0.4167 - val_loss: 1.0886 - val_accuracy: 0.4192\n",
      "Epoch 4/80\n",
      "563/563 [==============================] - 550s 978ms/step - loss: 1.0859 - accuracy: 0.4297 - val_loss: 1.0862 - val_accuracy: 0.4263\n",
      "Epoch 5/80\n",
      "563/563 [==============================] - 551s 979ms/step - loss: 1.0830 - accuracy: 0.4361 - val_loss: 1.0839 - val_accuracy: 0.4287\n",
      "Epoch 6/80\n",
      "563/563 [==============================] - 554s 984ms/step - loss: 1.0802 - accuracy: 0.4423 - val_loss: 1.0817 - val_accuracy: 0.4320\n",
      "Epoch 7/80\n",
      "563/563 [==============================] - 551s 979ms/step - loss: 1.0774 - accuracy: 0.4430 - val_loss: 1.0797 - val_accuracy: 0.4383\n",
      "Epoch 8/80\n",
      "563/563 [==============================] - 554s 984ms/step - loss: 1.0746 - accuracy: 0.4487 - val_loss: 1.0776 - val_accuracy: 0.4435\n",
      "Epoch 9/80\n",
      "563/563 [==============================] - 552s 981ms/step - loss: 1.0721 - accuracy: 0.4536 - val_loss: 1.0756 - val_accuracy: 0.4460\n",
      "Epoch 10/80\n",
      "563/563 [==============================] - 552s 981ms/step - loss: 1.0698 - accuracy: 0.4589 - val_loss: 1.0737 - val_accuracy: 0.4470\n",
      "Epoch 11/80\n",
      "563/563 [==============================] - 553s 982ms/step - loss: 1.0671 - accuracy: 0.4584 - val_loss: 1.0718 - val_accuracy: 0.4508\n",
      "Epoch 12/80\n",
      "563/563 [==============================] - 553s 982ms/step - loss: 1.0644 - accuracy: 0.4632 - val_loss: 1.0699 - val_accuracy: 0.4550\n",
      "Epoch 13/80\n",
      "563/563 [==============================] - 542s 962ms/step - loss: 1.0616 - accuracy: 0.4674 - val_loss: 1.0681 - val_accuracy: 0.4588\n",
      "Epoch 14/80\n",
      "563/563 [==============================] - 556s 988ms/step - loss: 1.0588 - accuracy: 0.4723 - val_loss: 1.0663 - val_accuracy: 0.4632\n",
      "Epoch 15/80\n",
      "563/563 [==============================] - 564s 1s/step - loss: 1.0568 - accuracy: 0.4743 - val_loss: 1.0644 - val_accuracy: 0.4653\n",
      "Epoch 16/80\n",
      "563/563 [==============================] - 560s 995ms/step - loss: 1.0541 - accuracy: 0.4773 - val_loss: 1.0626 - val_accuracy: 0.4675\n",
      "Epoch 17/80\n",
      "563/563 [==============================] - 554s 985ms/step - loss: 1.0511 - accuracy: 0.4821 - val_loss: 1.0607 - val_accuracy: 0.4690\n",
      "Epoch 18/80\n",
      "563/563 [==============================] - 553s 983ms/step - loss: 1.0481 - accuracy: 0.4839 - val_loss: 1.0588 - val_accuracy: 0.4712\n",
      "Epoch 19/80\n",
      "563/563 [==============================] - 555s 986ms/step - loss: 1.0459 - accuracy: 0.4858 - val_loss: 1.0570 - val_accuracy: 0.4742\n",
      "Epoch 20/80\n",
      "563/563 [==============================] - 557s 990ms/step - loss: 1.0425 - accuracy: 0.4878 - val_loss: 1.0551 - val_accuracy: 0.4755\n",
      "Epoch 21/80\n",
      "563/563 [==============================] - 557s 990ms/step - loss: 1.0393 - accuracy: 0.4936 - val_loss: 1.0531 - val_accuracy: 0.4787\n",
      "Epoch 22/80\n",
      "563/563 [==============================] - 557s 990ms/step - loss: 1.0365 - accuracy: 0.4949 - val_loss: 1.0512 - val_accuracy: 0.4827\n",
      "Epoch 23/80\n",
      "563/563 [==============================] - 555s 986ms/step - loss: 1.0331 - accuracy: 0.5001 - val_loss: 1.0492 - val_accuracy: 0.4843\n",
      "Epoch 24/80\n",
      "563/563 [==============================] - 555s 986ms/step - loss: 1.0295 - accuracy: 0.5048 - val_loss: 1.0472 - val_accuracy: 0.4883\n",
      "Epoch 25/80\n",
      "563/563 [==============================] - 558s 991ms/step - loss: 1.0278 - accuracy: 0.5023 - val_loss: 1.0451 - val_accuracy: 0.4917\n",
      "Epoch 26/80\n",
      "563/563 [==============================] - 559s 993ms/step - loss: 1.0228 - accuracy: 0.5060 - val_loss: 1.0432 - val_accuracy: 0.4945\n",
      "Epoch 27/80\n",
      "563/563 [==============================] - 560s 995ms/step - loss: 1.0207 - accuracy: 0.5123 - val_loss: 1.0412 - val_accuracy: 0.4958\n",
      "Epoch 28/80\n",
      "563/563 [==============================] - 559s 993ms/step - loss: 1.0166 - accuracy: 0.5147 - val_loss: 1.0393 - val_accuracy: 0.4978\n",
      "Epoch 29/80\n",
      "563/563 [==============================] - 559s 993ms/step - loss: 1.0132 - accuracy: 0.5168 - val_loss: 1.0374 - val_accuracy: 0.4983\n",
      "Epoch 30/80\n",
      "563/563 [==============================] - 560s 994ms/step - loss: 1.0091 - accuracy: 0.5193 - val_loss: 1.0356 - val_accuracy: 0.4988\n",
      "Epoch 31/80\n",
      "563/563 [==============================] - 560s 995ms/step - loss: 1.0054 - accuracy: 0.5224 - val_loss: 1.0337 - val_accuracy: 0.4997\n",
      "Epoch 32/80\n",
      "563/563 [==============================] - 561s 997ms/step - loss: 1.0016 - accuracy: 0.5239 - val_loss: 1.0322 - val_accuracy: 0.5028\n",
      "Epoch 33/80\n",
      "563/563 [==============================] - 561s 997ms/step - loss: 0.9978 - accuracy: 0.5298 - val_loss: 1.0305 - val_accuracy: 0.5038\n",
      "Epoch 34/80\n",
      "563/563 [==============================] - 562s 998ms/step - loss: 0.9943 - accuracy: 0.5328 - val_loss: 1.0287 - val_accuracy: 0.5010\n",
      "Epoch 35/80\n",
      "563/563 [==============================] - 563s 1000ms/step - loss: 0.9903 - accuracy: 0.5360 - val_loss: 1.0275 - val_accuracy: 0.5033\n",
      "Epoch 36/80\n",
      "563/563 [==============================] - 561s 997ms/step - loss: 0.9880 - accuracy: 0.5356 - val_loss: 1.0259 - val_accuracy: 0.5025\n",
      "Epoch 37/80\n",
      "563/563 [==============================] - 563s 999ms/step - loss: 0.9843 - accuracy: 0.5387 - val_loss: 1.0247 - val_accuracy: 0.5057\n",
      "Epoch 38/80\n",
      "563/563 [==============================] - 563s 1000ms/step - loss: 0.9800 - accuracy: 0.5424 - val_loss: 1.0233 - val_accuracy: 0.5065\n",
      "Epoch 39/80\n",
      "563/563 [==============================] - 565s 1s/step - loss: 0.9770 - accuracy: 0.5443 - val_loss: 1.0221 - val_accuracy: 0.5070\n",
      "Epoch 40/80\n",
      "563/563 [==============================] - 566s 1s/step - loss: 0.9729 - accuracy: 0.5466 - val_loss: 1.0207 - val_accuracy: 0.5083\n",
      "Epoch 41/80\n",
      "563/563 [==============================] - 573s 1s/step - loss: 0.9698 - accuracy: 0.5498 - val_loss: 1.0199 - val_accuracy: 0.5100\n",
      "Epoch 42/80\n",
      "563/563 [==============================] - 566s 1s/step - loss: 0.9666 - accuracy: 0.5466 - val_loss: 1.0185 - val_accuracy: 0.5100\n",
      "Epoch 43/80\n",
      "563/563 [==============================] - 569s 1s/step - loss: 0.9624 - accuracy: 0.5525 - val_loss: 1.0176 - val_accuracy: 0.5113\n",
      "Epoch 44/80\n",
      "563/563 [==============================] - 575s 1s/step - loss: 0.9581 - accuracy: 0.5571 - val_loss: 1.0166 - val_accuracy: 0.5108\n",
      "Epoch 45/80\n",
      "563/563 [==============================] - 578s 1s/step - loss: 0.9536 - accuracy: 0.5602 - val_loss: 1.0162 - val_accuracy: 0.5083\n",
      "Epoch 46/80\n",
      "563/563 [==============================] - 574s 1s/step - loss: 0.9520 - accuracy: 0.5589 - val_loss: 1.0147 - val_accuracy: 0.5097\n",
      "Epoch 47/80\n",
      "563/563 [==============================] - 571s 1s/step - loss: 0.9471 - accuracy: 0.5642 - val_loss: 1.0140 - val_accuracy: 0.5122\n",
      "Epoch 48/80\n",
      "563/563 [==============================] - 575s 1s/step - loss: 0.9444 - accuracy: 0.5624 - val_loss: 1.0132 - val_accuracy: 0.5142\n",
      "Epoch 49/80\n",
      "563/563 [==============================] - 583s 1s/step - loss: 0.9407 - accuracy: 0.5684 - val_loss: 1.0126 - val_accuracy: 0.5148\n",
      "Epoch 50/80\n",
      "563/563 [==============================] - 587s 1s/step - loss: 0.9363 - accuracy: 0.5693 - val_loss: 1.0121 - val_accuracy: 0.5118\n",
      "Epoch 51/80\n",
      "563/563 [==============================] - 588s 1s/step - loss: 0.9340 - accuracy: 0.5716 - val_loss: 1.0113 - val_accuracy: 0.5168\n",
      "Epoch 52/80\n",
      "563/563 [==============================] - 590s 1s/step - loss: 0.9290 - accuracy: 0.5724 - val_loss: 1.0113 - val_accuracy: 0.5142\n",
      "Epoch 53/80\n",
      "563/563 [==============================] - 593s 1s/step - loss: 0.9255 - accuracy: 0.5770 - val_loss: 1.0110 - val_accuracy: 0.5145\n",
      "Epoch 54/80\n",
      "563/563 [==============================] - 598s 1s/step - loss: 0.9230 - accuracy: 0.5807 - val_loss: 1.0108 - val_accuracy: 0.5145\n",
      "Epoch 55/80\n",
      "563/563 [==============================] - 599s 1s/step - loss: 0.9187 - accuracy: 0.5785 - val_loss: 1.0098 - val_accuracy: 0.5150\n",
      "Epoch 56/80\n",
      "563/563 [==============================] - 599s 1s/step - loss: 0.9149 - accuracy: 0.5819 - val_loss: 1.0094 - val_accuracy: 0.5165\n",
      "Epoch 57/80\n",
      "563/563 [==============================] - 598s 1s/step - loss: 0.9103 - accuracy: 0.5835 - val_loss: 1.0092 - val_accuracy: 0.5188\n",
      "Epoch 58/80\n",
      "563/563 [==============================] - 580s 1s/step - loss: 0.9067 - accuracy: 0.5892 - val_loss: 1.0092 - val_accuracy: 0.5180\n",
      "Epoch 59/80\n",
      "563/563 [==============================] - 584s 1s/step - loss: 0.9038 - accuracy: 0.5900 - val_loss: 1.0091 - val_accuracy: 0.5182\n",
      "Epoch 60/80\n",
      "563/563 [==============================] - 595s 1s/step - loss: 0.9001 - accuracy: 0.5921 - val_loss: 1.0091 - val_accuracy: 0.5192\n",
      "Epoch 61/80\n",
      "563/563 [==============================] - 600s 1s/step - loss: 0.8963 - accuracy: 0.5944 - val_loss: 1.0092 - val_accuracy: 0.5190\n",
      "Epoch 62/80\n",
      "563/563 [==============================] - 601s 1s/step - loss: 0.8929 - accuracy: 0.5983 - val_loss: 1.0100 - val_accuracy: 0.5195\n",
      "Epoch 63/80\n",
      "563/563 [==============================] - 602s 1s/step - loss: 0.8894 - accuracy: 0.5991 - val_loss: 1.0091 - val_accuracy: 0.5212\n",
      "Epoch 64/80\n",
      "563/563 [==============================] - 596s 1s/step - loss: 0.8862 - accuracy: 0.5986 - val_loss: 1.0101 - val_accuracy: 0.5197\n"
     ]
    }
   ],
   "source": [
    "history = model.fit(x_train, y_train, epochs=80, validation_data=(x_val, y_val), callbacks=[early_stopping])"
   ]
  },
  {
   "cell_type": "markdown",
   "metadata": {
    "heading_collapsed": true
   },
   "source": [
    "# Results"
   ]
  },
  {
   "cell_type": "code",
   "execution_count": 33,
   "metadata": {
    "ExecuteTime": {
     "end_time": "2022-04-20T07:28:22.088882Z",
     "start_time": "2022-04-20T07:27:21.390299Z"
    },
    "colab": {
     "base_uri": "https://localhost:8080/"
    },
    "hidden": true,
    "id": "m3CT4TlEJg0s",
    "outputId": "6d4385e2-e78e-4857-fd31-ac8b32a47d54"
   },
   "outputs": [
    {
     "name": "stdout",
     "output_type": "stream",
     "text": [
      "188/188 [==============================] - 59s 316ms/step - loss: 1.0129 - accuracy: 0.5173\n"
     ]
    }
   ],
   "source": [
    "score = model.evaluate(x_test, y_test)"
   ]
  },
  {
   "cell_type": "code",
   "execution_count": 34,
   "metadata": {
    "ExecuteTime": {
     "end_time": "2022-04-20T07:28:22.273390Z",
     "start_time": "2022-04-20T07:28:22.258453Z"
    },
    "colab": {
     "base_uri": "https://localhost:8080/"
    },
    "hidden": true,
    "id": "5dmjRAvlJgUR",
    "outputId": "bdeaf39e-5844-4e61-9c82-0852591b7d16"
   },
   "outputs": [
    {
     "name": "stdout",
     "output_type": "stream",
     "text": [
      "['loss', 'accuracy']\n",
      "[1.0129059553146362, 0.5173333287239075]\n"
     ]
    }
   ],
   "source": [
    "print(model.metrics_names)\n",
    "print(score)"
   ]
  },
  {
   "cell_type": "code",
   "execution_count": 35,
   "metadata": {
    "ExecuteTime": {
     "end_time": "2022-04-20T07:28:22.829548Z",
     "start_time": "2022-04-20T07:28:22.444163Z"
    },
    "colab": {
     "base_uri": "https://localhost:8080/",
     "height": 297
    },
    "hidden": true,
    "id": "xWthGHG9JWVQ",
    "outputId": "1049b0ae-8049-4bf1-c8fe-78b7ee749f45"
   },
   "outputs": [
    {
     "data": {
      "text/plain": [
       "<matplotlib.legend.Legend at 0x1efdb19bfd0>"
      ]
     },
     "execution_count": 35,
     "metadata": {},
     "output_type": "execute_result"
    },
    {
     "data": {
      "image/png": "[encoded data removed]",
      "text/plain": [
       "<Figure size 432x288 with 1 Axes>"
      ]
     },
     "metadata": {
      "needs_background": "light"
     },
     "output_type": "display_data"
    }
   ],
   "source": [
    "plt.plot(history.history['accuracy'])\n",
    "plt.plot(history.history['val_accuracy'])\n",
    "plt.xlabel(\"Epoch\")\n",
    "plt.ylabel(\"Accuracy [%]\")\n",
    "plt.legend([\"accuracy\", \"val_accuracy\"], loc =\"lower right\") "
   ]
  },
  {
   "cell_type": "code",
   "execution_count": 36,
   "metadata": {
    "ExecuteTime": {
     "end_time": "2022-04-20T07:28:23.107771Z",
     "start_time": "2022-04-20T07:28:23.000059Z"
    },
    "colab": {
     "base_uri": "https://localhost:8080/",
     "height": 297
    },
    "hidden": true,
    "id": "ye9c6sT8ezBZ",
    "outputId": "9ae295bf-a6cd-40c8-854c-173c90b36ff7"
   },
   "outputs": [
    {
     "data": {
      "text/plain": [
       "<matplotlib.legend.Legend at 0x1efdb3a1e80>"
      ]
     },
     "execution_count": 36,
     "metadata": {},
     "output_type": "execute_result"
    },
    {
     "data": {
      "image/png": "[encoded data removed]",
      "text/plain": [
       "<Figure size 432x288 with 1 Axes>"
      ]
     },
     "metadata": {
      "needs_background": "light"
     },
     "output_type": "display_data"
    }
   ],
   "source": [
    "plt.plot(history.history['loss'])\n",
    "plt.plot(history.history['val_loss'])\n",
    "plt.xlabel(\"epochs\")\n",
    "plt.ylabel(\"loss\")\n",
    "plt.legend([\"loss\", \"val_loss\"], loc =\"lower right\") "
   ]
  }
 ],
 "metadata": {
  "colab": {
   "collapsed_sections": [],
   "name": "Openings.ipynb",
   "provenance": []
  },
  "kernelspec": {
   "display_name": "Python 3 (ipykernel)",
   "language": "python",
   "name": "python3"
  },
  "language_info": {
   "codemirror_mode": {
    "name": "ipython",
    "version": 3
   },
   "file_extension": ".py",
   "mimetype": "text/x-python",
   "name": "python",
   "nbconvert_exporter": "python",
   "pygments_lexer": "ipython3",
   "version": "3.9.7"
  },
  "varInspector": {
   "cols": {
    "lenName": 16,
    "lenType": 16,
    "lenVar": 40
   },
   "kernels_config": {
    "python": {
     "delete_cmd_postfix": "",
     "delete_cmd_prefix": "del ",
     "library": "var_list.py",
     "varRefreshCmd": "print(var_dic_list())"
    },
    "r": {
     "delete_cmd_postfix": ") ",
     "delete_cmd_prefix": "rm(",
     "library": "var_list.r",
     "varRefreshCmd": "cat(var_dic_list()) "
    }
   },
   "types_to_exclude": [
    "module",
    "function",
    "builtin_function_or_method",
    "instance",
    "_Feature"
   ],
   "window_display": false
  }
 },
 "nbformat": 4,
 "nbformat_minor": 1
}
