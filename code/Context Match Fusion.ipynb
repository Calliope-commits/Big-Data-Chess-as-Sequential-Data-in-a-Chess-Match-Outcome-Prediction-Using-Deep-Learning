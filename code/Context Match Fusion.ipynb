{
 "cells": [
  {
   "cell_type": "markdown",
   "id": "08a77cb6",
   "metadata": {
    "heading_collapsed": true
   },
   "source": [
    "# Imports"
   ]
  },
  {
   "cell_type": "code",
   "execution_count": 8,
   "id": "649c3bf9",
   "metadata": {
    "ExecuteTime": {
     "end_time": "2022-04-20T13:16:56.417778Z",
     "start_time": "2022-04-20T13:16:51.759004Z"
    },
    "hidden": true,
    "scrolled": true
   },
   "outputs": [
    {
     "name": "stdout",
     "output_type": "stream",
     "text": [
      "Requirement already satisfied: chess in c:\\users\\guillaume\\anaconda3\\lib\\site-packages (1.9.0)\n",
      "Requirement already satisfied: tensorflow in c:\\users\\guillaume\\anaconda3\\lib\\site-packages (2.8.0)\n",
      "Requirement already satisfied: h5py>=2.9.0 in c:\\users\\guillaume\\anaconda3\\lib\\site-packages (from tensorflow) (3.2.1)\n",
      "Requirement already satisfied: tensorflow-io-gcs-filesystem>=0.23.1 in c:\\users\\guillaume\\anaconda3\\lib\\site-packages (from tensorflow) (0.24.0)\n",
      "Requirement already satisfied: protobuf>=3.9.2 in c:\\users\\guillaume\\anaconda3\\lib\\site-packages (from tensorflow) (3.20.0)\n",
      "Requirement already satisfied: gast>=0.2.1 in c:\\users\\guillaume\\anaconda3\\lib\\site-packages (from tensorflow) (0.5.3)\n",
      "Requirement already satisfied: wrapt>=1.11.0 in c:\\users\\guillaume\\anaconda3\\lib\\site-packages (from tensorflow) (1.12.1)\n",
      "Requirement already satisfied: numpy>=1.20 in c:\\users\\guillaume\\anaconda3\\lib\\site-packages (from tensorflow) (1.20.3)\n",
      "Requirement already satisfied: setuptools in c:\\users\\guillaume\\anaconda3\\lib\\site-packages (from tensorflow) (58.0.4)\n",
      "Requirement already satisfied: google-pasta>=0.1.1 in c:\\users\\guillaume\\anaconda3\\lib\\site-packages (from tensorflow) (0.2.0)\n",
      "Requirement already satisfied: astunparse>=1.6.0 in c:\\users\\guillaume\\anaconda3\\lib\\site-packages (from tensorflow) (1.6.3)\n",
      "Requirement already satisfied: opt-einsum>=2.3.2 in c:\\users\\guillaume\\anaconda3\\lib\\site-packages (from tensorflow) (3.3.0)\n",
      "Requirement already satisfied: termcolor>=1.1.0 in c:\\users\\guillaume\\anaconda3\\lib\\site-packages (from tensorflow) (1.1.0)\n",
      "Requirement already satisfied: absl-py>=0.4.0 in c:\\users\\guillaume\\anaconda3\\lib\\site-packages (from tensorflow) (1.0.0)\n",
      "Requirement already satisfied: flatbuffers>=1.12 in c:\\users\\guillaume\\anaconda3\\lib\\site-packages (from tensorflow) (2.0)\n",
      "Requirement already satisfied: tensorboard<2.9,>=2.8 in c:\\users\\guillaume\\anaconda3\\lib\\site-packages (from tensorflow) (2.8.0)\n",
      "Requirement already satisfied: six>=1.12.0 in c:\\users\\guillaume\\anaconda3\\lib\\site-packages (from tensorflow) (1.16.0)\n",
      "Requirement already satisfied: keras<2.9,>=2.8.0rc0 in c:\\users\\guillaume\\anaconda3\\lib\\site-packages (from tensorflow) (2.8.0)\n",
      "Requirement already satisfied: keras-preprocessing>=1.1.1 in c:\\users\\guillaume\\anaconda3\\lib\\site-packages (from tensorflow) (1.1.2)\n",
      "Requirement already satisfied: typing-extensions>=3.6.6 in c:\\users\\guillaume\\anaconda3\\lib\\site-packages (from tensorflow) (3.10.0.2)\n",
      "Requirement already satisfied: tf-estimator-nightly==2.8.0.dev2021122109 in c:\\users\\guillaume\\anaconda3\\lib\\site-packages (from tensorflow) (2.8.0.dev2021122109)\n",
      "Requirement already satisfied: grpcio<2.0,>=1.24.3 in c:\\users\\guillaume\\anaconda3\\lib\\site-packages (from tensorflow) (1.44.0)\n",
      "Requirement already satisfied: libclang>=9.0.1 in c:\\users\\guillaume\\anaconda3\\lib\\site-packages (from tensorflow) (13.0.0)\n",
      "Requirement already satisfied: wheel<1.0,>=0.23.0 in c:\\users\\guillaume\\anaconda3\\lib\\site-packages (from astunparse>=1.6.0->tensorflow) (0.37.0)\n",
      "Requirement already satisfied: google-auth-oauthlib<0.5,>=0.4.1 in c:\\users\\guillaume\\anaconda3\\lib\\site-packages (from tensorboard<2.9,>=2.8->tensorflow) (0.4.6)\n",
      "Requirement already satisfied: werkzeug>=0.11.15 in c:\\users\\guillaume\\anaconda3\\lib\\site-packages (from tensorboard<2.9,>=2.8->tensorflow) (2.0.2)\n",
      "Requirement already satisfied: requests<3,>=2.21.0 in c:\\users\\guillaume\\anaconda3\\lib\\site-packages (from tensorboard<2.9,>=2.8->tensorflow) (2.26.0)\n",
      "Requirement already satisfied: google-auth<3,>=1.6.3 in c:\\users\\guillaume\\anaconda3\\lib\\site-packages (from tensorboard<2.9,>=2.8->tensorflow) (2.6.5)\n",
      "Requirement already satisfied: tensorboard-data-server<0.7.0,>=0.6.0 in c:\\users\\guillaume\\anaconda3\\lib\\site-packages (from tensorboard<2.9,>=2.8->tensorflow) (0.6.1)\n",
      "Requirement already satisfied: markdown>=2.6.8 in c:\\users\\guillaume\\anaconda3\\lib\\site-packages (from tensorboard<2.9,>=2.8->tensorflow) (3.3.6)\n",
      "Requirement already satisfied: tensorboard-plugin-wit>=1.6.0 in c:\\users\\guillaume\\anaconda3\\lib\\site-packages (from tensorboard<2.9,>=2.8->tensorflow) (1.8.1)\n",
      "Requirement already satisfied: rsa<5,>=3.1.4 in c:\\users\\guillaume\\anaconda3\\lib\\site-packages (from google-auth<3,>=1.6.3->tensorboard<2.9,>=2.8->tensorflow) (4.8)\n",
      "Requirement already satisfied: pyasn1-modules>=0.2.1 in c:\\users\\guillaume\\anaconda3\\lib\\site-packages (from google-auth<3,>=1.6.3->tensorboard<2.9,>=2.8->tensorflow) (0.2.8)\n",
      "Requirement already satisfied: cachetools<6.0,>=2.0.0 in c:\\users\\guillaume\\anaconda3\\lib\\site-packages (from google-auth<3,>=1.6.3->tensorboard<2.9,>=2.8->tensorflow) (5.0.0)\n",
      "Requirement already satisfied: requests-oauthlib>=0.7.0 in c:\\users\\guillaume\\anaconda3\\lib\\site-packages (from google-auth-oauthlib<0.5,>=0.4.1->tensorboard<2.9,>=2.8->tensorflow) (1.3.1)\n",
      "Requirement already satisfied: importlib-metadata>=4.4 in c:\\users\\guillaume\\anaconda3\\lib\\site-packages (from markdown>=2.6.8->tensorboard<2.9,>=2.8->tensorflow) (4.8.1)\n",
      "Requirement already satisfied: zipp>=0.5 in c:\\users\\guillaume\\anaconda3\\lib\\site-packages (from importlib-metadata>=4.4->markdown>=2.6.8->tensorboard<2.9,>=2.8->tensorflow) (3.6.0)\n",
      "Requirement already satisfied: pyasn1<0.5.0,>=0.4.6 in c:\\users\\guillaume\\anaconda3\\lib\\site-packages (from pyasn1-modules>=0.2.1->google-auth<3,>=1.6.3->tensorboard<2.9,>=2.8->tensorflow) (0.4.8)\n",
      "Requirement already satisfied: urllib3<1.27,>=1.21.1 in c:\\users\\guillaume\\anaconda3\\lib\\site-packages (from requests<3,>=2.21.0->tensorboard<2.9,>=2.8->tensorflow) (1.26.7)\n",
      "Requirement already satisfied: charset-normalizer~=2.0.0 in c:\\users\\guillaume\\anaconda3\\lib\\site-packages (from requests<3,>=2.21.0->tensorboard<2.9,>=2.8->tensorflow) (2.0.4)\n",
      "Requirement already satisfied: certifi>=2017.4.17 in c:\\users\\guillaume\\anaconda3\\lib\\site-packages (from requests<3,>=2.21.0->tensorboard<2.9,>=2.8->tensorflow) (2021.10.8)\n",
      "Requirement already satisfied: idna<4,>=2.5 in c:\\users\\guillaume\\anaconda3\\lib\\site-packages (from requests<3,>=2.21.0->tensorboard<2.9,>=2.8->tensorflow) (3.2)\n",
      "Requirement already satisfied: oauthlib>=3.0.0 in c:\\users\\guillaume\\anaconda3\\lib\\site-packages (from requests-oauthlib>=0.7.0->google-auth-oauthlib<0.5,>=0.4.1->tensorboard<2.9,>=2.8->tensorflow) (3.2.0)\n"
     ]
    }
   ],
   "source": [
    "!pip install chess\n",
    "!pip install tensorflow"
   ]
  },
  {
   "cell_type": "code",
   "execution_count": 1,
   "id": "2878b838",
   "metadata": {
    "ExecuteTime": {
     "end_time": "2022-04-22T15:11:17.357448Z",
     "start_time": "2022-04-22T15:11:12.068083Z"
    },
    "hidden": true
   },
   "outputs": [],
   "source": [
    "from keras.layers import Input, Concatenate, LSTM, Flatten, Dense, Dropout\n",
    "from keras.models import Model\n",
    "from keras.optimizer_v2.adam import Adam\n",
    "from keras.utils.vis_utils import plot_model\n",
    "from keras.callbacks import EarlyStopping\n",
    "from sklearn.preprocessing import LabelEncoder\n",
    "from tensorflow import keras\n",
    "from sklearn.model_selection import train_test_split\n",
    "import numpy as np\n",
    "import matplotlib.pyplot as plt\n",
    "import ast\n",
    "from IPython.display import clear_output\n",
    "\n",
    "import chess.pgn"
   ]
  },
  {
   "cell_type": "markdown",
   "id": "05bf747f",
   "metadata": {
    "heading_collapsed": true
   },
   "source": [
    "# Data Preparation"
   ]
  },
  {
   "cell_type": "code",
   "execution_count": 2,
   "id": "a60d0e33",
   "metadata": {
    "ExecuteTime": {
     "end_time": "2022-04-22T15:11:17.543078Z",
     "start_time": "2022-04-22T15:11:17.531071Z"
    },
    "hidden": true
   },
   "outputs": [],
   "source": [
    "def NormalizeData(data):\n",
    "    return (data - np.min(data)) / (np.max(data) - np.min(data))"
   ]
  },
  {
   "cell_type": "markdown",
   "id": "ca460f89",
   "metadata": {
    "heading_collapsed": true,
    "hidden": true
   },
   "source": [
    "## ECO Openings sequences"
   ]
  },
  {
   "cell_type": "code",
   "execution_count": 3,
   "id": "7a553a12",
   "metadata": {
    "ExecuteTime": {
     "end_time": "2022-04-22T15:11:17.620964Z",
     "start_time": "2022-04-22T15:11:17.574969Z"
    },
    "hidden": true
   },
   "outputs": [],
   "source": [
    "import csv\n",
    "import collections\n",
    "\n",
    "openings = collections.defaultdict(list)\n",
    "\n",
    "with open('openings.csv', mode='r') as infile:\n",
    "    reader = csv.reader(infile)\n",
    "    headers = next(reader)\n",
    "    for rows in reader:\n",
    "        move = \" \".join(ast.literal_eval(rows[3]))\n",
    "        openings[rows[2]].append(move)"
   ]
  },
  {
   "cell_type": "markdown",
   "id": "664da525",
   "metadata": {
    "ExecuteTime": {
     "end_time": "2022-04-20T13:23:13.562644Z",
     "start_time": "2022-04-20T13:23:13.551650Z"
    },
    "heading_collapsed": true,
    "hidden": true
   },
   "source": [
    "## Functions used in dynamic representation"
   ]
  },
  {
   "cell_type": "code",
   "execution_count": 4,
   "id": "ef7a6fed",
   "metadata": {
    "ExecuteTime": {
     "end_time": "2022-04-22T15:11:17.667866Z",
     "start_time": "2022-04-22T15:11:17.653875Z"
    },
    "hidden": true
   },
   "outputs": [],
   "source": [
    "def get_mid_game(game):\n",
    "    mean = 0\n",
    "    eco_code = game.headers[\"ECO\"]\n",
    "    move_sequence = str(game.mainline_moves()).replace(\". \", \".\")\n",
    "    for move in openings[eco_code]:\n",
    "        mean += len(move.split(\" \"))\n",
    "        if move in move_sequence:\n",
    "            return len(move.split(\" \"))\n",
    "    if len(openings[eco_code]) > 0:\n",
    "        return mean // len(openings[eco_code])\n",
    "    else:\n",
    "        return 0"
   ]
  },
  {
   "cell_type": "code",
   "execution_count": 5,
   "id": "b64e141c",
   "metadata": {
    "ExecuteTime": {
     "end_time": "2022-04-22T15:11:17.713743Z",
     "start_time": "2022-04-22T15:11:17.699780Z"
    },
    "hidden": true
   },
   "outputs": [],
   "source": [
    "def get_end_game(game, theory):\n",
    "    board = chess.Board()\n",
    "    count = 0\n",
    "    pieces = ['r', 'n', 'b', 'q']\n",
    "    if theory == \"minev\":\n",
    "        # For each move\n",
    "        for move in game.mainline_moves():\n",
    "            board.push(move)\n",
    "            pieces_count = 0\n",
    "            # Coun how many pieces different from pawns and kings\n",
    "            for p in pieces:\n",
    "                pieces_count += str(board).count(p)\n",
    "                pieces_count += str(board).count(p.capitalize())\n",
    "            # If that number is less or equal to 4 return the number of moves to get to end game\n",
    "            if pieces_count <= 4:\n",
    "                return count\n",
    "            count += 1\n",
    "    elif theory == \"flear\":\n",
    "        for move in game.mainline_moves():\n",
    "            board.push(move)\n",
    "            pieces_count_w = 0\n",
    "            pieces_count_b = 0\n",
    "            # Coun how many pieces different from pawns and kings\n",
    "            for p in pieces:\n",
    "                pieces_count_b += str(board).count(p)\n",
    "                pieces_count_w += str(board).count(p.capitalize())\n",
    "            # If that number is less or equal to 4 return the number of moves to get to end game\n",
    "            if pieces_count_b <= 1 and pieces_count_w <= 1:\n",
    "                return count\n",
    "            count += 1\n",
    "    elif theory == \"fine\":\n",
    "        for move in game.mainline_moves():\n",
    "            board.push(move)\n",
    "            if (not \"q\" in str(board)) and (not \"Q\" in str(board)):\n",
    "                return count\n",
    "            count += 1\n",
    "    return 1000"
   ]
  },
  {
   "cell_type": "code",
   "execution_count": 6,
   "id": "7eaea423",
   "metadata": {
    "ExecuteTime": {
     "end_time": "2022-04-22T15:11:17.760786Z",
     "start_time": "2022-04-22T15:11:17.745657Z"
    },
    "hidden": true
   },
   "outputs": [],
   "source": [
    "def get_pawns(board_list):\n",
    "    black_pawns = []\n",
    "    white_pawns = []\n",
    "    # get all positions of pawns\n",
    "    for i, line in enumerate(board_list):\n",
    "        for j, tile in enumerate(line):\n",
    "            if tile == \"p\":\n",
    "                black_pawns.append((i, j))\n",
    "            if tile == \"P\":\n",
    "                white_pawns.append((i, j))\n",
    "    return (black_pawns, white_pawns)"
   ]
  },
  {
   "cell_type": "code",
   "execution_count": 7,
   "id": "89270c7f",
   "metadata": {
    "ExecuteTime": {
     "end_time": "2022-04-22T15:11:17.806831Z",
     "start_time": "2022-04-22T15:11:17.792674Z"
    },
    "hidden": true
   },
   "outputs": [],
   "source": [
    "def get_passed_pawns(pawns):\n",
    "    black_pawns, white_pawns = pawns\n",
    "    passed_pawns = black_pawns + white_pawns\n",
    "    for bp in black_pawns:\n",
    "        for wp in white_pawns:\n",
    "            if bp[0] < wp[0]:\n",
    "                if bp[1] - 1 == wp[1] or bp[1] + 1 == wp[1] or bp[1] == wp[1]:\n",
    "                    passed_pawns.remove(bp)\n",
    "                    break\n",
    "\n",
    "    for wp in white_pawns:\n",
    "        for bp in black_pawns:\n",
    "            if wp[0] > bp[0]:\n",
    "                if bp[1] == wp[1] - 1 or bp[1] == wp[1] + 1 or bp[1] == wp[1]:\n",
    "                    passed_pawns.remove(wp)\n",
    "                    break\n",
    "    return passed_pawns"
   ]
  },
  {
   "cell_type": "code",
   "execution_count": 8,
   "id": "a18a3de2",
   "metadata": {
    "ExecuteTime": {
     "end_time": "2022-04-22T15:11:17.853703Z",
     "start_time": "2022-04-22T15:11:17.840738Z"
    },
    "hidden": true
   },
   "outputs": [],
   "source": [
    "def get_isolated_pawns(pawns):\n",
    "    black_pawns, white_pawns = pawns\n",
    "    isolated_pawns = black_pawns + white_pawns\n",
    "    for p in black_pawns:\n",
    "        for bp in black_pawns:\n",
    "            if p != bp:\n",
    "                if p[1] - 1 == bp[1] or p[1] + 1 == bp[1]:\n",
    "                    isolated_pawns.remove(p)\n",
    "                    break\n",
    "    for p in white_pawns:\n",
    "        for wp in white_pawns:\n",
    "            if p != wp:\n",
    "                if p[1] - 1 == wp[1] or p[1] + 1 == wp[1]:\n",
    "                    isolated_pawns.remove(p)\n",
    "                    break\n",
    "\n",
    "    return isolated_pawns"
   ]
  },
  {
   "cell_type": "code",
   "execution_count": 9,
   "id": "053c2b65",
   "metadata": {
    "ExecuteTime": {
     "end_time": "2022-04-22T15:11:17.915861Z",
     "start_time": "2022-04-22T15:11:17.887801Z"
    },
    "hidden": true
   },
   "outputs": [],
   "source": [
    "def handle_dynamic(game, game_size, end):\n",
    "    single_game = []\n",
    "    cost = [1, 3.05, 3.33, 5.63, 9.5, 10, 1, 3.05, 3.33, 5.63, 9.5, 10]\n",
    "    lex = [\"P\", \"N\", \"B\", \"R\", \"Q\", \"K\", \"p\", \"n\", \"b\", \"r\", \"q\", \"k\"]\n",
    "    non_passed = [[1, 1, 1, 1, 1, 1, 1, 1],\n",
    "                  [0.90, 0.95, 1.05, 1.10, 1.10, 1.05, 0.95, 0.90],\n",
    "                  [0.90, 0.95, 1.05, 1.15, 1.15, 1.05, 0.95, 0.90],\n",
    "                  [0.90, 0.95, 1.10, 1.20, 1.20, 1.10, 0.95, 0.90],\n",
    "                  [0.97, 1.03, 1.17, 1.27, 1.27, 1.17, 1.03, 0.97],\n",
    "                  [1.06, 1.12, 1.25, 1.40, 1.40, 1.25, 1.12, 1.06],\n",
    "                  [1, 1, 1, 1, 1, 1, 1, 1], [1, 1, 1, 1, 1, 1, 1, 1]]\n",
    "    isolated = [1, 1, 1, 1.05, 1.30, 2.1, 1, 1]\n",
    "    connected = [1, 1, 1, 1.15, 1.35, 2.1, 1, 1]\n",
    "    passed = [1, 1, 1, 1.30, 1.55, 2.1, 1, 1]\n",
    "    passed_connected = [1, 1, 1, 1.55, 2.3, 3.5, 1, 1]\n",
    "\n",
    "    midgame = get_mid_game(game) + 1\n",
    "    endgame = get_end_game(game, theory=end)\n",
    "    board = chess.Board()\n",
    "\n",
    "    for n, move in enumerate(game.mainline_moves()):\n",
    "\n",
    "        if n == midgame:\n",
    "            non_passed = np.ones((8, 8))\n",
    "        elif n == endgame:\n",
    "            non_passed = [[1, 1, 1, 1, 1, 1, 1, 1],\n",
    "                          [1.20, 1.05, 0.95, 0.90, 0.90, 0.95, 1.05, 1.20],\n",
    "                          [1.20, 1.05, 0.95, 0.90, 0.90, 0.95, 1.05, 1.20],\n",
    "                          [1.25, 1.10, 1.00, 0.95, 0.95, 1.00, 1.10, 1.25],\n",
    "                          [1.33, 1.17, 1.07, 1.00, 1.00, 1.07, 1.17, 1.33],\n",
    "                          [1.45, 1.29, 1.16, 1.05, 1.05, 1.16, 1.29, 1.45],\n",
    "                          [1, 1, 1, 1, 1, 1, 1, 1], [1, 1, 1, 1, 1, 1, 1, 1]]\n",
    "\n",
    "        board.push(move)\n",
    "        board_list = str(board).replace(\" \", \"\").split(\"\\n\")\n",
    "        pawns = get_pawns(board_list)\n",
    "        # gives a list of passed pawns\n",
    "        passed_pawns = get_passed_pawns(pawns)\n",
    "        # gives a list of isolated pawns\n",
    "        isolated_pawns = get_isolated_pawns(pawns)\n",
    "        # gives a list of connected pawns\n",
    "        connected_pawns = connected_pawns = [\n",
    "            x for x in pawns[0] + pawns[1] if x not in isolated_pawns\n",
    "        ]\n",
    "        vec = [np.zeros((8, 8)) for i in range(12)]\n",
    "        for line_pos in range(8):\n",
    "            for col_pos in range(8):\n",
    "                piece = board_list[line_pos][col_pos]\n",
    "                if piece in lex:\n",
    "                    lex_pos = lex.index(piece)\n",
    "                    value = cost[lex_pos]\n",
    "                    multiplier = 1\n",
    "\n",
    "                    # If pawn is white, rank is inverted\n",
    "                    if piece == \"p\":\n",
    "                        rank = line_pos\n",
    "                    elif piece == \"P\":\n",
    "                        rank = -(line_pos + 1)\n",
    "\n",
    "                    if piece == \"p\" or piece == \"P\":\n",
    "                        if (line_pos, col_pos) not in passed_pawns:\n",
    "                            value = non_passed[rank][col_pos]\n",
    "                        if (line_pos, col_pos) in passed_pawns and (\n",
    "                                line_pos, col_pos) in connected_pawns:\n",
    "                            multiplier *= passed_connected[rank]\n",
    "                        elif (line_pos, col_pos) in passed_pawns:\n",
    "                            multiplier *= passed[rank]\n",
    "                        elif (line_pos, col_pos) in connected_pawns:\n",
    "                            multiplier *= connected[rank]\n",
    "                        if (line_pos, col_pos) in isolated_pawns:\n",
    "                            multiplier *= isolated[rank]\n",
    "\n",
    "                    # Assign a value according to the piece position and a multiplier\n",
    "                    vec[lex_pos][line_pos][col_pos] = value * multiplier\n",
    "        single_game.append(np.asarray(vec))\n",
    "        if n == game_size - 1:\n",
    "            break\n",
    "\n",
    "    if n < game_size - 1:\n",
    "        for i in range(game_size - n - 1):\n",
    "            single_game.append([np.zeros((8, 8)) for i in range(12)])\n",
    "    return np.asarray(single_game)"
   ]
  },
  {
   "cell_type": "markdown",
   "id": "4aafd5ed",
   "metadata": {
    "heading_collapsed": true,
    "hidden": true
   },
   "source": [
    "## Convert PGN to bitmap/algebraic/alphazero/dynamic representation"
   ]
  },
  {
   "cell_type": "code",
   "execution_count": 10,
   "id": "41ff1635",
   "metadata": {
    "ExecuteTime": {
     "end_time": "2022-04-22T15:11:17.962736Z",
     "start_time": "2022-04-22T15:11:17.949794Z"
    },
    "hidden": true
   },
   "outputs": [],
   "source": [
    "\"\"\" Allows to convert a PGN file into bitmap/algebraic/alphazero/dynamic representation \"\"\"\n",
    "\n",
    "\n",
    "def convert_pgn(PGN_FILE,\n",
    "                data_type=\"bitmap\",\n",
    "                game_size=80,\n",
    "                max_amount=100,\n",
    "                start_at=0,\n",
    "                endgame=\"minev\"):\n",
    "    data = []\n",
    "    target = []\n",
    "    names = []\n",
    "    elos = []\n",
    "    lex = [\"P\", \"N\", \"B\", \"R\", \"Q\", \"K\", \"p\", \"n\", \"b\", \"r\", \"q\", \"k\"]\n",
    "    if data_type == \"algebraic\":\n",
    "        cost = [1, 3, 3, 5, 9, 10, 1, 3, 3, 5, 9, 10]\n",
    "    elif data_type == \"bitmap\":\n",
    "        cost = [1 for i in range(12)]\n",
    "    elif data_type == \"alphazero\":\n",
    "        cost = [1, 3.05, 3.33, 5.63, 9.5, 10, 1, 3.05, 3.33, 5.63, 9.5, 10]\n",
    "    amount = 0\n",
    "    with open(PGN_FILE) as f:\n",
    "        game = 0\n",
    "        #Parse each game\n",
    "        while True:\n",
    "            game = chess.pgn.read_game(f)\n",
    "            if amount >= start_at:\n",
    "                clear_output(wait=True)\n",
    "                print(amount, flush=True)\n",
    "                move_count = 0\n",
    "                #Avoid the last element\n",
    "                if game is None:\n",
    "                    break\n",
    "\n",
    "                #Get the result of the game\n",
    "                score = game.headers[\"Result\"]\n",
    "                if score.startswith(\"1-0\"):\n",
    "                    target.append(0)\n",
    "                elif score.startswith(\"0-1\"):\n",
    "                    target.append(1)\n",
    "                else:\n",
    "                    target.append(2)\n",
    "\n",
    "                #Get the names\n",
    "                names.append([game.headers[\"White\"], game.headers[\"Black\"]])\n",
    "\n",
    "                #Get ELO rankings\n",
    "                elos.append([\n",
    "                    int(game.headers[\"WhiteElo\"]),\n",
    "                    int(game.headers[\"BlackElo\"])\n",
    "                ])\n",
    "\n",
    "                # DYNAMIC DATATYPE PART\n",
    "                if data_type == \"dynamic\":\n",
    "                    data.append(\n",
    "                        handle_dynamic(game, game_size=game_size, end=endgame))\n",
    "                else:\n",
    "                    #Actual game\n",
    "                    single_game = []\n",
    "                    board = chess.Board()\n",
    "\n",
    "                    #Parse each move\n",
    "                    for move in game.mainline_moves():\n",
    "                        move_count += 1\n",
    "                        vec = [np.zeros((8, 8)) for i in range(12)]\n",
    "                        board.push(move)\n",
    "                        board_list = str(board).replace(\" \", \"\").split(\"\\n\")\n",
    "                        for line_pos in range(8):\n",
    "                            for col_pos in range(8):\n",
    "                                if board_list[line_pos][col_pos] in lex:\n",
    "                                    lex_pos = lex.index(\n",
    "                                        board_list[line_pos][col_pos])\n",
    "                                    vec[lex_pos][line_pos][col_pos] = cost[\n",
    "                                        lex_pos]\n",
    "                        single_game.append(np.asarray(vec))\n",
    "                        #Not exceed game size\n",
    "                        if move_count == game_size:\n",
    "                            break\n",
    "                    #If it doesn't reach the game size, fill with 0\n",
    "                    if move_count < game_size:\n",
    "                        for i in range(game_size - move_count):\n",
    "                            single_game.append(\n",
    "                                [np.zeros((8, 8)) for i in range(12)])\n",
    "\n",
    "                    single_game = np.asarray(single_game)\n",
    "                    data.append(single_game)\n",
    "\n",
    "            amount += 1\n",
    "            if amount == max_amount + start_at:\n",
    "                break\n",
    "\n",
    "        # Reshape datas to fit the model\n",
    "        data = [[y.reshape(768, ) for y in x] for x in data]\n",
    "        # Normalisation\n",
    "        data = np.asarray(data)\n",
    "        # Count White wins, Black wins and Draws\n",
    "        target = np.array(target, dtype=int)\n",
    "        unique, counts = np.unique(target, return_counts=True)\n",
    "        amount = amount - start_at\n",
    "        print(f\"{amount} games converted to {data_type}.\")\n",
    "        print(\n",
    "            f\"{round(counts[0]/amount*100, 2)}% White wins, {round(counts[1]/amount*100, 2)}% Black wins, {round(counts[2]/amount*100, 2)}% Draws.\"\n",
    "        )\n",
    "        # Convert game results to categorical data\n",
    "        target = keras.utils.to_categorical(target, num_classes=3)\n",
    "        names = np.asarray(names)\n",
    "        elos = np.asarray(elos)\n",
    "\n",
    "    return (data, target, names, elos)"
   ]
  },
  {
   "cell_type": "markdown",
   "id": "8052e126",
   "metadata": {
    "heading_collapsed": true
   },
   "source": [
    "# Dataset"
   ]
  },
  {
   "cell_type": "code",
   "execution_count": 11,
   "id": "a4d1912c",
   "metadata": {
    "ExecuteTime": {
     "end_time": "2022-04-22T15:11:18.008911Z",
     "start_time": "2022-04-22T15:11:17.994657Z"
    },
    "hidden": true
   },
   "outputs": [],
   "source": [
    "SEQ_LENGTH = 80\n",
    "AMOUNT = 30000"
   ]
  },
  {
   "cell_type": "code",
   "execution_count": 12,
   "id": "11334d00",
   "metadata": {
    "ExecuteTime": {
     "end_time": "2022-04-22T15:17:31.081298Z",
     "start_time": "2022-04-22T15:11:18.818869Z"
    },
    "hidden": true
   },
   "outputs": [
    {
     "name": "stdout",
     "output_type": "stream",
     "text": [
      "29999\n",
      "30000 games converted to algebraic.\n",
      "36.06% White wins, 31.46% Black wins, 32.48% Draws.\n"
     ]
    }
   ],
   "source": [
    "content, target, names, elos = convert_pgn(\"KingBase2018-B20-B49.pgn\", max_amount=AMOUNT, data_type=\"algebraic\", game_size=SEQ_LENGTH)"
   ]
  },
  {
   "cell_type": "code",
   "execution_count": 13,
   "id": "095aa089",
   "metadata": {
    "ExecuteTime": {
     "end_time": "2022-04-22T15:17:31.143109Z",
     "start_time": "2022-04-22T15:17:31.130145Z"
    },
    "hidden": true
   },
   "outputs": [
    {
     "name": "stdout",
     "output_type": "stream",
     "text": [
      "(30000, 80, 768) (30000, 3) (30000, 2) (30000, 2)\n"
     ]
    }
   ],
   "source": [
    "print(content.shape, target.shape, names.shape, elos.shape)"
   ]
  },
  {
   "cell_type": "code",
   "execution_count": 14,
   "id": "6669e44d",
   "metadata": {
    "ExecuteTime": {
     "end_time": "2022-04-22T15:17:31.220900Z",
     "start_time": "2022-04-22T15:17:31.176021Z"
    },
    "hidden": true,
    "scrolled": true
   },
   "outputs": [],
   "source": [
    "# Categorize names\n",
    "label_encoder = LabelEncoder()\n",
    "# Reshape into 1D\n",
    "names_cat = names.reshape(AMOUNT*2)\n",
    "# Categorize\n",
    "names_cat = np.array(label_encoder.fit_transform(names_cat))\n",
    "names_cat = names_cat.astype('float64')\n",
    "# Reshape into (AMOUNT, 2)\n",
    "names_cat = names_cat.reshape((AMOUNT, 2))\n",
    "names_cat = NormalizeData(names_cat)"
   ]
  },
  {
   "cell_type": "code",
   "execution_count": 15,
   "id": "6182c7b8",
   "metadata": {
    "ExecuteTime": {
     "end_time": "2022-04-22T15:17:31.297696Z",
     "start_time": "2022-04-22T15:17:31.284731Z"
    },
    "hidden": true
   },
   "outputs": [],
   "source": [
    "elos_norm = NormalizeData(elos)"
   ]
  },
  {
   "cell_type": "code",
   "execution_count": 16,
   "id": "1f816903",
   "metadata": {
    "ExecuteTime": {
     "end_time": "2022-04-22T15:17:31.390448Z",
     "start_time": "2022-04-22T15:17:31.330613Z"
    },
    "hidden": true
   },
   "outputs": [],
   "source": [
    "# context = np.concatenate((names_cat, elos_norm), axis=1)\n",
    "context = np.array([[names_cat[i][0], elos_norm[i][0], names_cat[i][1], elos_norm[i][1]] for i in range(len(names_cat))])"
   ]
  },
  {
   "cell_type": "code",
   "execution_count": 19,
   "id": "37cf7874",
   "metadata": {
    "ExecuteTime": {
     "end_time": "2022-04-22T15:17:42.964071Z",
     "start_time": "2022-04-22T15:17:31.514145Z"
    },
    "hidden": true
   },
   "outputs": [],
   "source": [
    "x1_train, x1_rem, x2_train, x2_rem, y_train, y_rem = train_test_split(content, context, target, train_size = 0.6, random_state = 4)"
   ]
  },
  {
   "cell_type": "code",
   "execution_count": 21,
   "id": "0c63b908",
   "metadata": {
    "ExecuteTime": {
     "end_time": "2022-04-22T15:17:45.358198Z",
     "start_time": "2022-04-22T15:17:44.037332Z"
    },
    "hidden": true
   },
   "outputs": [],
   "source": [
    "x1_test, x1_val, x2_test, x2_val, y_test, y_val = train_test_split(x1_rem, x2_rem, y_rem, test_size = 0.5, random_state = 4)"
   ]
  },
  {
   "cell_type": "code",
   "execution_count": 23,
   "id": "a9b19c6d",
   "metadata": {
    "ExecuteTime": {
     "end_time": "2022-04-22T15:17:45.899774Z",
     "start_time": "2022-04-22T15:17:45.885788Z"
    },
    "hidden": true
   },
   "outputs": [
    {
     "name": "stdout",
     "output_type": "stream",
     "text": [
      "(18000, 80, 768) (6000, 80, 768) (6000, 80, 768)\n",
      "(18000, 4) (6000, 4) (6000, 4)\n"
     ]
    }
   ],
   "source": [
    "print(x1_train.shape, x1_test.shape, x1_val.shape)\n",
    "print(x2_train.shape, x2_test.shape, x2_val.shape)"
   ]
  },
  {
   "cell_type": "markdown",
   "id": "76e9cc8b",
   "metadata": {
    "heading_collapsed": true
   },
   "source": [
    "# Model"
   ]
  },
  {
   "cell_type": "code",
   "execution_count": 25,
   "id": "6307eded",
   "metadata": {
    "ExecuteTime": {
     "end_time": "2022-04-22T15:17:47.043285Z",
     "start_time": "2022-04-22T15:17:45.978559Z"
    },
    "hidden": true,
    "scrolled": true
   },
   "outputs": [
    {
     "name": "stdout",
     "output_type": "stream",
     "text": [
      "Model: \"model\"\n",
      "__________________________________________________________________________________________________\n",
      " Layer (type)                   Output Shape         Param #     Connected to                     \n",
      "==================================================================================================\n",
      " input_2 (InputLayer)           [(None, 4)]          0           []                               \n",
      "                                                                                                  \n",
      " dense (Dense)                  (None, 4)            20          ['input_2[0][0]']                \n",
      "                                                                                                  \n",
      " dropout_2 (Dropout)            (None, 4)            0           ['dense[0][0]']                  \n",
      "                                                                                                  \n",
      " input_1 (InputLayer)           [(None, 80, 768)]    0           []                               \n",
      "                                                                                                  \n",
      " dense_1 (Dense)                (None, 16)           80          ['dropout_2[0][0]']              \n",
      "                                                                                                  \n",
      " lstm (LSTM)                    (None, 80, 512)      2623488     ['input_1[0][0]']                \n",
      "                                                                                                  \n",
      " dropout_3 (Dropout)            (None, 16)           0           ['dense_1[0][0]']                \n",
      "                                                                                                  \n",
      " dropout (Dropout)              (None, 80, 512)      0           ['lstm[0][0]']                   \n",
      "                                                                                                  \n",
      " dense_2 (Dense)                (None, 12)           204         ['dropout_3[0][0]']              \n",
      "                                                                                                  \n",
      " lstm_1 (LSTM)                  (None, 80, 256)      787456      ['dropout[0][0]']                \n",
      "                                                                                                  \n",
      " dropout_4 (Dropout)            (None, 12)           0           ['dense_2[0][0]']                \n",
      "                                                                                                  \n",
      " dropout_1 (Dropout)            (None, 80, 256)      0           ['lstm_1[0][0]']                 \n",
      "                                                                                                  \n",
      " dense_3 (Dense)                (None, 8)            104         ['dropout_4[0][0]']              \n",
      "                                                                                                  \n",
      " lstm_2 (LSTM)                  (None, 128)          197120      ['dropout_1[0][0]']              \n",
      "                                                                                                  \n",
      " flatten (Flatten)              (None, 8)            0           ['dense_3[0][0]']                \n",
      "                                                                                                  \n",
      " concatenate (Concatenate)      (None, 136)          0           ['lstm_2[0][0]',                 \n",
      "                                                                  'flatten[0][0]']                \n",
      "                                                                                                  \n",
      " dense_4 (Dense)                (None, 64)           8768        ['concatenate[0][0]']            \n",
      "                                                                                                  \n",
      " dense_5 (Dense)                (None, 3)            195         ['dense_4[0][0]']                \n",
      "                                                                                                  \n",
      "==================================================================================================\n",
      "Total params: 3,617,435\n",
      "Trainable params: 3,617,435\n",
      "Non-trainable params: 0\n",
      "__________________________________________________________________________________________________\n"
     ]
    }
   ],
   "source": [
    "content_input = Input((80, 768))\n",
    "context_input = Input((4))\n",
    "\n",
    "x = LSTM(512, activation=\"tanh\", return_sequences=True)(content_input)\n",
    "x = Dropout(.2)(x)\n",
    "x = LSTM(256, activation=\"tanh\", return_sequences=True)(x)\n",
    "x = Dropout(.2)(x)\n",
    "x = LSTM(128, activation=\"tanh\", dropout=0.2, return_sequences=False)(x)\n",
    "\n",
    "y = Dense(4, activation=\"relu\")(context_input)\n",
    "y = Dropout(.2)(y)\n",
    "y = Dense(16, activation=\"relu\")(y)\n",
    "y = Dropout(.2)(y)\n",
    "y = Dense(12, activation=\"relu\")(y)\n",
    "y = Dropout(.2)(y)\n",
    "y = Dense(8, activation=\"relu\")(y)\n",
    "# Not sure\n",
    "# y = Dropout(.2)(y)\n",
    "y = Flatten()(y)\n",
    "\n",
    "concat_layer = Concatenate()([x, y])\n",
    "output = Dense(64, activation=\"relu\")(concat_layer)\n",
    "output = Dense(3, activation=\"softmax\")(output)\n",
    "\n",
    "model = Model(inputs=[content_input, context_input], outputs=output)\n",
    "# Optimizer\n",
    "opt = Adam(learning_rate=0.001, beta_1=0.9, beta_2=0.99, amsgrad=False)\n",
    "\n",
    "# Early Stopping\n",
    "early_stopping = EarlyStopping(patience=5)\n",
    "model.compile(optimizer=opt, loss='categorical_crossentropy', metrics=['accuracy'])\n",
    "model.summary()"
   ]
  },
  {
   "cell_type": "markdown",
   "id": "ef028966",
   "metadata": {
    "heading_collapsed": true,
    "hidden": true
   },
   "source": [
    "## Structure"
   ]
  },
  {
   "cell_type": "code",
   "execution_count": 3,
   "id": "32141a15",
   "metadata": {
    "ExecuteTime": {
     "end_time": "2022-04-20T13:13:28.981927Z",
     "start_time": "2022-04-20T13:13:26.655297Z"
    },
    "hidden": true
   },
   "outputs": [
    {
     "name": "stdout",
     "output_type": "stream",
     "text": [
      "Requirement already satisfied: pydot in c:\\users\\guillaume\\anaconda3\\lib\\site-packages (1.4.2)\n",
      "Requirement already satisfied: pyparsing>=2.1.4 in c:\\users\\guillaume\\anaconda3\\lib\\site-packages (from pydot) (3.0.4)\n"
     ]
    }
   ],
   "source": [
    "!pip install pydot"
   ]
  },
  {
   "cell_type": "code",
   "execution_count": 27,
   "id": "48388f47",
   "metadata": {
    "ExecuteTime": {
     "end_time": "2022-04-22T13:27:12.916458Z",
     "start_time": "2022-04-22T13:27:12.256029Z"
    },
    "hidden": true
   },
   "outputs": [
    {
     "data": {
      "image/png": "[encoded data removed]",
      "text/plain": [
       "<IPython.core.display.Image object>"
      ]
     },
     "execution_count": 27,
     "metadata": {},
     "output_type": "execute_result"
    }
   ],
   "source": [
    "plot_model(model, show_shapes=False, show_layer_names=False, rankdir='LR', to_file='model.png')"
   ]
  },
  {
   "cell_type": "markdown",
   "id": "c8497a0c",
   "metadata": {
    "heading_collapsed": true
   },
   "source": [
    "# Training"
   ]
  },
  {
   "cell_type": "code",
   "execution_count": 26,
   "id": "042f87ed",
   "metadata": {
    "ExecuteTime": {
     "end_time": "2022-04-22T16:29:14.456067Z",
     "start_time": "2022-04-22T15:17:47.077166Z"
    },
    "hidden": true,
    "scrolled": false
   },
   "outputs": [
    {
     "name": "stdout",
     "output_type": "stream",
     "text": [
      "Epoch 1/80\n",
      "563/563 [==============================] - 524s 924ms/step - loss: 1.0756 - accuracy: 0.4056 - val_loss: 1.0285 - val_accuracy: 0.4790\n",
      "Epoch 2/80\n",
      "563/563 [==============================] - 529s 940ms/step - loss: 0.9796 - accuracy: 0.5210 - val_loss: 0.9072 - val_accuracy: 0.5743\n",
      "Epoch 3/80\n",
      "563/563 [==============================] - 535s 951ms/step - loss: 0.8653 - accuracy: 0.6053 - val_loss: 0.8947 - val_accuracy: 0.5740\n",
      "Epoch 4/80\n",
      "563/563 [==============================] - 536s 951ms/step - loss: 0.7247 - accuracy: 0.6903 - val_loss: 0.9160 - val_accuracy: 0.5813\n",
      "Epoch 5/80\n",
      "563/563 [==============================] - 533s 947ms/step - loss: 0.5019 - accuracy: 0.8092 - val_loss: 1.1104 - val_accuracy: 0.5592\n",
      "Epoch 6/80\n",
      "563/563 [==============================] - 538s 957ms/step - loss: 0.3027 - accuracy: 0.8938 - val_loss: 1.3941 - val_accuracy: 0.5570\n",
      "Epoch 7/80\n",
      "563/563 [==============================] - 545s 968ms/step - loss: 0.1854 - accuracy: 0.9391 - val_loss: 1.5537 - val_accuracy: 0.5627\n",
      "Epoch 8/80\n",
      "563/563 [==============================] - 546s 970ms/step - loss: 0.1307 - accuracy: 0.9591 - val_loss: 1.8345 - val_accuracy: 0.5577\n"
     ]
    }
   ],
   "source": [
    "history = model.fit(x=[x1_train, x2_train],\n",
    "                    y=y_train,\n",
    "                    validation_data=([x1_val, x2_val], y_val),\n",
    "                    epochs=80,\n",
    "                    callbacks=[early_stopping])"
   ]
  },
  {
   "cell_type": "markdown",
   "id": "2eb2c33c",
   "metadata": {
    "heading_collapsed": true
   },
   "source": [
    "# Results"
   ]
  },
  {
   "cell_type": "code",
   "execution_count": 27,
   "id": "17d4d890",
   "metadata": {
    "ExecuteTime": {
     "end_time": "2022-04-22T16:30:13.162151Z",
     "start_time": "2022-04-22T16:29:14.518900Z"
    },
    "hidden": true
   },
   "outputs": [
    {
     "name": "stdout",
     "output_type": "stream",
     "text": [
      "188/188 [==============================] - 57s 305ms/step - loss: 1.7976 - accuracy: 0.5543\n"
     ]
    }
   ],
   "source": [
    "score = model.evaluate([x1_test, x2_test], y_test)"
   ]
  },
  {
   "cell_type": "code",
   "execution_count": 28,
   "id": "b1137874",
   "metadata": {
    "ExecuteTime": {
     "end_time": "2022-04-22T16:30:13.223985Z",
     "start_time": "2022-04-22T16:30:13.209025Z"
    },
    "hidden": true,
    "scrolled": true
   },
   "outputs": [
    {
     "name": "stdout",
     "output_type": "stream",
     "text": [
      "['loss', 'accuracy']\n",
      "[1.7975819110870361, 0.5543333292007446]\n"
     ]
    }
   ],
   "source": [
    "print(model.metrics_names)\n",
    "print(score)"
   ]
  },
  {
   "cell_type": "code",
   "execution_count": 29,
   "id": "b0e27460",
   "metadata": {
    "ExecuteTime": {
     "end_time": "2022-04-22T16:30:13.702885Z",
     "start_time": "2022-04-22T16:30:13.254904Z"
    },
    "hidden": true
   },
   "outputs": [
    {
     "data": {
      "text/plain": [
       "<matplotlib.legend.Legend at 0x2030d607100>"
      ]
     },
     "execution_count": 29,
     "metadata": {},
     "output_type": "execute_result"
    },
    {
     "data": {
      "image/png": "[encoded data removed]",
      "text/plain": [
       "<Figure size 432x288 with 1 Axes>"
      ]
     },
     "metadata": {
      "needs_background": "light"
     },
     "output_type": "display_data"
    }
   ],
   "source": [
    "plt.plot(history.history['accuracy'], 'g')\n",
    "plt.plot(history.history['val_accuracy'], 'g--')\n",
    "plt.xlabel(\"Epoch\")\n",
    "plt.ylabel(\"Accuracy [%]\")\n",
    "plt.legend([\"accuracy\", \"val_accuracy\"], loc =\"lower right\") "
   ]
  },
  {
   "cell_type": "code",
   "execution_count": 33,
   "id": "b3ff4b54",
   "metadata": {
    "ExecuteTime": {
     "end_time": "2022-04-24T11:57:59.687114Z",
     "start_time": "2022-04-24T11:57:59.573389Z"
    },
    "hidden": true
   },
   "outputs": [
    {
     "data": {
      "text/plain": [
       "<matplotlib.legend.Legend at 0x201787fc5b0>"
      ]
     },
     "execution_count": 33,
     "metadata": {},
     "output_type": "execute_result"
    },
    {
     "data": {
      "image/png": "[encoded data removed]",
      "text/plain": [
       "<Figure size 432x288 with 1 Axes>"
      ]
     },
     "metadata": {
      "needs_background": "light"
     },
     "output_type": "display_data"
    }
   ],
   "source": [
    "plt.plot(history.history['loss'])\n",
    "plt.plot(history.history['val_loss'])\n",
    "plt.xlabel(\"Epoch\")\n",
    "plt.ylabel(\"Accuracy [%]\")\n",
    "plt.legend([\"loss\", \"val_loss\"], loc =\"lower right\") "
   ]
  }
 ],
 "metadata": {
  "kernelspec": {
   "display_name": "Python 3 (ipykernel)",
   "language": "python",
   "name": "python3"
  },
  "language_info": {
   "codemirror_mode": {
    "name": "ipython",
    "version": 3
   },
   "file_extension": ".py",
   "mimetype": "text/x-python",
   "name": "python",
   "nbconvert_exporter": "python",
   "pygments_lexer": "ipython3",
   "version": "3.9.7"
  },
  "varInspector": {
   "cols": {
    "lenName": 16,
    "lenType": 16,
    "lenVar": 40
   },
   "kernels_config": {
    "python": {
     "delete_cmd_postfix": "",
     "delete_cmd_prefix": "del ",
     "library": "var_list.py",
     "varRefreshCmd": "print(var_dic_list())"
    },
    "r": {
     "delete_cmd_postfix": ") ",
     "delete_cmd_prefix": "rm(",
     "library": "var_list.r",
     "varRefreshCmd": "cat(var_dic_list()) "
    }
   },
   "position": {
    "height": "672.396px",
    "left": "1763.33px",
    "right": "20px",
    "top": "120px",
    "width": "350px"
   },
   "types_to_exclude": [
    "module",
    "function",
    "builtin_function_or_method",
    "instance",
    "_Feature"
   ],
   "window_display": true
  }
 },
 "nbformat": 4,
 "nbformat_minor": 5
}
